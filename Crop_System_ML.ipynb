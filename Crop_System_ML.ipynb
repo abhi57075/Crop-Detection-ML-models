{
  "cells": [
    {
      "cell_type": "markdown",
      "metadata": {
        "id": "view-in-github",
        "colab_type": "text"
      },
      "source": [
        "<a href=\"https://colab.research.google.com/github/abhi57075/Crop-Detection-ML-models/blob/main/Crop_System_ML.ipynb\" target=\"_parent\"><img src=\"https://colab.research.google.com/assets/colab-badge.svg\" alt=\"Open In Colab\"/></a>"
      ]
    },
    {
      "cell_type": "markdown",
      "source": [
        "# DATASET LOADING"
      ],
      "metadata": {
        "id": "6xKu8R4mTvfK"
      }
    },
    {
      "cell_type": "code",
      "execution_count": null,
      "metadata": {
        "id": "rB_4PfCVZV_1"
      },
      "outputs": [],
      "source": [
        "import pandas as pd\n",
        "import numpy as np"
      ]
    },
    {
      "cell_type": "code",
      "execution_count": null,
      "metadata": {
        "id": "fGIU4p6eZ8VG"
      },
      "outputs": [],
      "source": [
        "crop = pd.read_csv(\"/content/Crop_recommendation.csv\")"
      ]
    },
    {
      "cell_type": "code",
      "execution_count": null,
      "metadata": {
        "id": "3f4FlX_paDRe",
        "colab": {
          "base_uri": "https://localhost:8080/",
          "height": 206
        },
        "outputId": "12275343-ae2f-4581-b2c3-f87c49544a4b"
      },
      "outputs": [
        {
          "output_type": "execute_result",
          "data": {
            "text/plain": [
              "    N   P   K  temperature   humidity        ph    rainfall label\n",
              "0  90  42  43    20.879744  82.002744  6.502985  202.935536  rice\n",
              "1  85  58  41    21.770462  80.319644  7.038096  226.655537  rice\n",
              "2  60  55  44    23.004459  82.320763  7.840207  263.964248  rice\n",
              "3  74  35  40    26.491096  80.158363  6.980401  242.864034  rice\n",
              "4  78  42  42    20.130175  81.604873  7.628473  262.717340  rice"
            ],
            "text/html": [
              "\n",
              "  <div id=\"df-2e2d681a-e52f-41fa-9309-e09dc231944a\" class=\"colab-df-container\">\n",
              "    <div>\n",
              "<style scoped>\n",
              "    .dataframe tbody tr th:only-of-type {\n",
              "        vertical-align: middle;\n",
              "    }\n",
              "\n",
              "    .dataframe tbody tr th {\n",
              "        vertical-align: top;\n",
              "    }\n",
              "\n",
              "    .dataframe thead th {\n",
              "        text-align: right;\n",
              "    }\n",
              "</style>\n",
              "<table border=\"1\" class=\"dataframe\">\n",
              "  <thead>\n",
              "    <tr style=\"text-align: right;\">\n",
              "      <th></th>\n",
              "      <th>N</th>\n",
              "      <th>P</th>\n",
              "      <th>K</th>\n",
              "      <th>temperature</th>\n",
              "      <th>humidity</th>\n",
              "      <th>ph</th>\n",
              "      <th>rainfall</th>\n",
              "      <th>label</th>\n",
              "    </tr>\n",
              "  </thead>\n",
              "  <tbody>\n",
              "    <tr>\n",
              "      <th>0</th>\n",
              "      <td>90</td>\n",
              "      <td>42</td>\n",
              "      <td>43</td>\n",
              "      <td>20.879744</td>\n",
              "      <td>82.002744</td>\n",
              "      <td>6.502985</td>\n",
              "      <td>202.935536</td>\n",
              "      <td>rice</td>\n",
              "    </tr>\n",
              "    <tr>\n",
              "      <th>1</th>\n",
              "      <td>85</td>\n",
              "      <td>58</td>\n",
              "      <td>41</td>\n",
              "      <td>21.770462</td>\n",
              "      <td>80.319644</td>\n",
              "      <td>7.038096</td>\n",
              "      <td>226.655537</td>\n",
              "      <td>rice</td>\n",
              "    </tr>\n",
              "    <tr>\n",
              "      <th>2</th>\n",
              "      <td>60</td>\n",
              "      <td>55</td>\n",
              "      <td>44</td>\n",
              "      <td>23.004459</td>\n",
              "      <td>82.320763</td>\n",
              "      <td>7.840207</td>\n",
              "      <td>263.964248</td>\n",
              "      <td>rice</td>\n",
              "    </tr>\n",
              "    <tr>\n",
              "      <th>3</th>\n",
              "      <td>74</td>\n",
              "      <td>35</td>\n",
              "      <td>40</td>\n",
              "      <td>26.491096</td>\n",
              "      <td>80.158363</td>\n",
              "      <td>6.980401</td>\n",
              "      <td>242.864034</td>\n",
              "      <td>rice</td>\n",
              "    </tr>\n",
              "    <tr>\n",
              "      <th>4</th>\n",
              "      <td>78</td>\n",
              "      <td>42</td>\n",
              "      <td>42</td>\n",
              "      <td>20.130175</td>\n",
              "      <td>81.604873</td>\n",
              "      <td>7.628473</td>\n",
              "      <td>262.717340</td>\n",
              "      <td>rice</td>\n",
              "    </tr>\n",
              "  </tbody>\n",
              "</table>\n",
              "</div>\n",
              "    <div class=\"colab-df-buttons\">\n",
              "\n",
              "  <div class=\"colab-df-container\">\n",
              "    <button class=\"colab-df-convert\" onclick=\"convertToInteractive('df-2e2d681a-e52f-41fa-9309-e09dc231944a')\"\n",
              "            title=\"Convert this dataframe to an interactive table.\"\n",
              "            style=\"display:none;\">\n",
              "\n",
              "  <svg xmlns=\"http://www.w3.org/2000/svg\" height=\"24px\" viewBox=\"0 -960 960 960\">\n",
              "    <path d=\"M120-120v-720h720v720H120Zm60-500h600v-160H180v160Zm220 220h160v-160H400v160Zm0 220h160v-160H400v160ZM180-400h160v-160H180v160Zm440 0h160v-160H620v160ZM180-180h160v-160H180v160Zm440 0h160v-160H620v160Z\"/>\n",
              "  </svg>\n",
              "    </button>\n",
              "\n",
              "  <style>\n",
              "    .colab-df-container {\n",
              "      display:flex;\n",
              "      gap: 12px;\n",
              "    }\n",
              "\n",
              "    .colab-df-convert {\n",
              "      background-color: #E8F0FE;\n",
              "      border: none;\n",
              "      border-radius: 50%;\n",
              "      cursor: pointer;\n",
              "      display: none;\n",
              "      fill: #1967D2;\n",
              "      height: 32px;\n",
              "      padding: 0 0 0 0;\n",
              "      width: 32px;\n",
              "    }\n",
              "\n",
              "    .colab-df-convert:hover {\n",
              "      background-color: #E2EBFA;\n",
              "      box-shadow: 0px 1px 2px rgba(60, 64, 67, 0.3), 0px 1px 3px 1px rgba(60, 64, 67, 0.15);\n",
              "      fill: #174EA6;\n",
              "    }\n",
              "\n",
              "    .colab-df-buttons div {\n",
              "      margin-bottom: 4px;\n",
              "    }\n",
              "\n",
              "    [theme=dark] .colab-df-convert {\n",
              "      background-color: #3B4455;\n",
              "      fill: #D2E3FC;\n",
              "    }\n",
              "\n",
              "    [theme=dark] .colab-df-convert:hover {\n",
              "      background-color: #434B5C;\n",
              "      box-shadow: 0px 1px 3px 1px rgba(0, 0, 0, 0.15);\n",
              "      filter: drop-shadow(0px 1px 2px rgba(0, 0, 0, 0.3));\n",
              "      fill: #FFFFFF;\n",
              "    }\n",
              "  </style>\n",
              "\n",
              "    <script>\n",
              "      const buttonEl =\n",
              "        document.querySelector('#df-2e2d681a-e52f-41fa-9309-e09dc231944a button.colab-df-convert');\n",
              "      buttonEl.style.display =\n",
              "        google.colab.kernel.accessAllowed ? 'block' : 'none';\n",
              "\n",
              "      async function convertToInteractive(key) {\n",
              "        const element = document.querySelector('#df-2e2d681a-e52f-41fa-9309-e09dc231944a');\n",
              "        const dataTable =\n",
              "          await google.colab.kernel.invokeFunction('convertToInteractive',\n",
              "                                                    [key], {});\n",
              "        if (!dataTable) return;\n",
              "\n",
              "        const docLinkHtml = 'Like what you see? Visit the ' +\n",
              "          '<a target=\"_blank\" href=https://colab.research.google.com/notebooks/data_table.ipynb>data table notebook</a>'\n",
              "          + ' to learn more about interactive tables.';\n",
              "        element.innerHTML = '';\n",
              "        dataTable['output_type'] = 'display_data';\n",
              "        await google.colab.output.renderOutput(dataTable, element);\n",
              "        const docLink = document.createElement('div');\n",
              "        docLink.innerHTML = docLinkHtml;\n",
              "        element.appendChild(docLink);\n",
              "      }\n",
              "    </script>\n",
              "  </div>\n",
              "\n",
              "\n",
              "<div id=\"df-92ca679b-697c-4ff0-8a02-bed8f6f68ef0\">\n",
              "  <button class=\"colab-df-quickchart\" onclick=\"quickchart('df-92ca679b-697c-4ff0-8a02-bed8f6f68ef0')\"\n",
              "            title=\"Suggest charts\"\n",
              "            style=\"display:none;\">\n",
              "\n",
              "<svg xmlns=\"http://www.w3.org/2000/svg\" height=\"24px\"viewBox=\"0 0 24 24\"\n",
              "     width=\"24px\">\n",
              "    <g>\n",
              "        <path d=\"M19 3H5c-1.1 0-2 .9-2 2v14c0 1.1.9 2 2 2h14c1.1 0 2-.9 2-2V5c0-1.1-.9-2-2-2zM9 17H7v-7h2v7zm4 0h-2V7h2v10zm4 0h-2v-4h2v4z\"/>\n",
              "    </g>\n",
              "</svg>\n",
              "  </button>\n",
              "\n",
              "<style>\n",
              "  .colab-df-quickchart {\n",
              "      --bg-color: #E8F0FE;\n",
              "      --fill-color: #1967D2;\n",
              "      --hover-bg-color: #E2EBFA;\n",
              "      --hover-fill-color: #174EA6;\n",
              "      --disabled-fill-color: #AAA;\n",
              "      --disabled-bg-color: #DDD;\n",
              "  }\n",
              "\n",
              "  [theme=dark] .colab-df-quickchart {\n",
              "      --bg-color: #3B4455;\n",
              "      --fill-color: #D2E3FC;\n",
              "      --hover-bg-color: #434B5C;\n",
              "      --hover-fill-color: #FFFFFF;\n",
              "      --disabled-bg-color: #3B4455;\n",
              "      --disabled-fill-color: #666;\n",
              "  }\n",
              "\n",
              "  .colab-df-quickchart {\n",
              "    background-color: var(--bg-color);\n",
              "    border: none;\n",
              "    border-radius: 50%;\n",
              "    cursor: pointer;\n",
              "    display: none;\n",
              "    fill: var(--fill-color);\n",
              "    height: 32px;\n",
              "    padding: 0;\n",
              "    width: 32px;\n",
              "  }\n",
              "\n",
              "  .colab-df-quickchart:hover {\n",
              "    background-color: var(--hover-bg-color);\n",
              "    box-shadow: 0 1px 2px rgba(60, 64, 67, 0.3), 0 1px 3px 1px rgba(60, 64, 67, 0.15);\n",
              "    fill: var(--button-hover-fill-color);\n",
              "  }\n",
              "\n",
              "  .colab-df-quickchart-complete:disabled,\n",
              "  .colab-df-quickchart-complete:disabled:hover {\n",
              "    background-color: var(--disabled-bg-color);\n",
              "    fill: var(--disabled-fill-color);\n",
              "    box-shadow: none;\n",
              "  }\n",
              "\n",
              "  .colab-df-spinner {\n",
              "    border: 2px solid var(--fill-color);\n",
              "    border-color: transparent;\n",
              "    border-bottom-color: var(--fill-color);\n",
              "    animation:\n",
              "      spin 1s steps(1) infinite;\n",
              "  }\n",
              "\n",
              "  @keyframes spin {\n",
              "    0% {\n",
              "      border-color: transparent;\n",
              "      border-bottom-color: var(--fill-color);\n",
              "      border-left-color: var(--fill-color);\n",
              "    }\n",
              "    20% {\n",
              "      border-color: transparent;\n",
              "      border-left-color: var(--fill-color);\n",
              "      border-top-color: var(--fill-color);\n",
              "    }\n",
              "    30% {\n",
              "      border-color: transparent;\n",
              "      border-left-color: var(--fill-color);\n",
              "      border-top-color: var(--fill-color);\n",
              "      border-right-color: var(--fill-color);\n",
              "    }\n",
              "    40% {\n",
              "      border-color: transparent;\n",
              "      border-right-color: var(--fill-color);\n",
              "      border-top-color: var(--fill-color);\n",
              "    }\n",
              "    60% {\n",
              "      border-color: transparent;\n",
              "      border-right-color: var(--fill-color);\n",
              "    }\n",
              "    80% {\n",
              "      border-color: transparent;\n",
              "      border-right-color: var(--fill-color);\n",
              "      border-bottom-color: var(--fill-color);\n",
              "    }\n",
              "    90% {\n",
              "      border-color: transparent;\n",
              "      border-bottom-color: var(--fill-color);\n",
              "    }\n",
              "  }\n",
              "</style>\n",
              "\n",
              "  <script>\n",
              "    async function quickchart(key) {\n",
              "      const quickchartButtonEl =\n",
              "        document.querySelector('#' + key + ' button');\n",
              "      quickchartButtonEl.disabled = true;  // To prevent multiple clicks.\n",
              "      quickchartButtonEl.classList.add('colab-df-spinner');\n",
              "      try {\n",
              "        const charts = await google.colab.kernel.invokeFunction(\n",
              "            'suggestCharts', [key], {});\n",
              "      } catch (error) {\n",
              "        console.error('Error during call to suggestCharts:', error);\n",
              "      }\n",
              "      quickchartButtonEl.classList.remove('colab-df-spinner');\n",
              "      quickchartButtonEl.classList.add('colab-df-quickchart-complete');\n",
              "    }\n",
              "    (() => {\n",
              "      let quickchartButtonEl =\n",
              "        document.querySelector('#df-92ca679b-697c-4ff0-8a02-bed8f6f68ef0 button');\n",
              "      quickchartButtonEl.style.display =\n",
              "        google.colab.kernel.accessAllowed ? 'block' : 'none';\n",
              "    })();\n",
              "  </script>\n",
              "</div>\n",
              "\n",
              "    </div>\n",
              "  </div>\n"
            ]
          },
          "metadata": {},
          "execution_count": 5
        }
      ],
      "source": [
        "crop.head()"
      ]
    },
    {
      "cell_type": "code",
      "execution_count": null,
      "metadata": {
        "id": "XlRKSafUaGpQ",
        "colab": {
          "base_uri": "https://localhost:8080/"
        },
        "outputId": "4b45225f-42be-4028-8329-0d929f609d80"
      },
      "outputs": [
        {
          "output_type": "execute_result",
          "data": {
            "text/plain": [
              "(2200, 8)"
            ]
          },
          "metadata": {},
          "execution_count": 6
        }
      ],
      "source": [
        "crop.shape"
      ]
    },
    {
      "cell_type": "code",
      "execution_count": null,
      "metadata": {
        "id": "gnbCY96kaKJv",
        "colab": {
          "base_uri": "https://localhost:8080/"
        },
        "outputId": "e3c74cee-ac99-4ea9-89ed-70de0196d585"
      },
      "outputs": [
        {
          "output_type": "stream",
          "name": "stdout",
          "text": [
            "<class 'pandas.core.frame.DataFrame'>\n",
            "RangeIndex: 2200 entries, 0 to 2199\n",
            "Data columns (total 8 columns):\n",
            " #   Column       Non-Null Count  Dtype  \n",
            "---  ------       --------------  -----  \n",
            " 0   N            2200 non-null   int64  \n",
            " 1   P            2200 non-null   int64  \n",
            " 2   K            2200 non-null   int64  \n",
            " 3   temperature  2200 non-null   float64\n",
            " 4   humidity     2200 non-null   float64\n",
            " 5   ph           2200 non-null   float64\n",
            " 6   rainfall     2200 non-null   float64\n",
            " 7   label        2200 non-null   object \n",
            "dtypes: float64(4), int64(3), object(1)\n",
            "memory usage: 137.6+ KB\n"
          ]
        }
      ],
      "source": [
        "crop.info()"
      ]
    },
    {
      "cell_type": "code",
      "execution_count": null,
      "metadata": {
        "id": "JOYjtEFeaMna",
        "colab": {
          "base_uri": "https://localhost:8080/"
        },
        "outputId": "371e9258-3b52-423d-fca5-a5418d5592cd"
      },
      "outputs": [
        {
          "output_type": "execute_result",
          "data": {
            "text/plain": [
              "N              0\n",
              "P              0\n",
              "K              0\n",
              "temperature    0\n",
              "humidity       0\n",
              "ph             0\n",
              "rainfall       0\n",
              "label          0\n",
              "dtype: int64"
            ]
          },
          "metadata": {},
          "execution_count": 8
        }
      ],
      "source": [
        "crop.isnull().sum()"
      ]
    },
    {
      "cell_type": "code",
      "execution_count": null,
      "metadata": {
        "id": "x9ozHo-saQFX",
        "colab": {
          "base_uri": "https://localhost:8080/"
        },
        "outputId": "5dd3e0d2-da7c-4694-be58-8cb97bff9972"
      },
      "outputs": [
        {
          "output_type": "execute_result",
          "data": {
            "text/plain": [
              "0"
            ]
          },
          "metadata": {},
          "execution_count": 9
        }
      ],
      "source": [
        "crop.duplicated().sum()"
      ]
    },
    {
      "cell_type": "code",
      "execution_count": null,
      "metadata": {
        "id": "22jPvj4caStH",
        "colab": {
          "base_uri": "https://localhost:8080/",
          "height": 300
        },
        "outputId": "353fed90-e61d-4603-ca26-0fdd8351e976"
      },
      "outputs": [
        {
          "output_type": "execute_result",
          "data": {
            "text/plain": [
              "                 N            P            K  temperature     humidity  \\\n",
              "count  2200.000000  2200.000000  2200.000000  2200.000000  2200.000000   \n",
              "mean     50.551818    53.362727    48.149091    25.616244    71.481779   \n",
              "std      36.917334    32.985883    50.647931     5.063749    22.263812   \n",
              "min       0.000000     5.000000     5.000000     8.825675    14.258040   \n",
              "25%      21.000000    28.000000    20.000000    22.769375    60.261953   \n",
              "50%      37.000000    51.000000    32.000000    25.598693    80.473146   \n",
              "75%      84.250000    68.000000    49.000000    28.561654    89.948771   \n",
              "max     140.000000   145.000000   205.000000    43.675493    99.981876   \n",
              "\n",
              "                ph     rainfall  \n",
              "count  2200.000000  2200.000000  \n",
              "mean      6.469480   103.463655  \n",
              "std       0.773938    54.958389  \n",
              "min       3.504752    20.211267  \n",
              "25%       5.971693    64.551686  \n",
              "50%       6.425045    94.867624  \n",
              "75%       6.923643   124.267508  \n",
              "max       9.935091   298.560117  "
            ],
            "text/html": [
              "\n",
              "  <div id=\"df-cf929219-6237-4506-b26b-0919b038842b\" class=\"colab-df-container\">\n",
              "    <div>\n",
              "<style scoped>\n",
              "    .dataframe tbody tr th:only-of-type {\n",
              "        vertical-align: middle;\n",
              "    }\n",
              "\n",
              "    .dataframe tbody tr th {\n",
              "        vertical-align: top;\n",
              "    }\n",
              "\n",
              "    .dataframe thead th {\n",
              "        text-align: right;\n",
              "    }\n",
              "</style>\n",
              "<table border=\"1\" class=\"dataframe\">\n",
              "  <thead>\n",
              "    <tr style=\"text-align: right;\">\n",
              "      <th></th>\n",
              "      <th>N</th>\n",
              "      <th>P</th>\n",
              "      <th>K</th>\n",
              "      <th>temperature</th>\n",
              "      <th>humidity</th>\n",
              "      <th>ph</th>\n",
              "      <th>rainfall</th>\n",
              "    </tr>\n",
              "  </thead>\n",
              "  <tbody>\n",
              "    <tr>\n",
              "      <th>count</th>\n",
              "      <td>2200.000000</td>\n",
              "      <td>2200.000000</td>\n",
              "      <td>2200.000000</td>\n",
              "      <td>2200.000000</td>\n",
              "      <td>2200.000000</td>\n",
              "      <td>2200.000000</td>\n",
              "      <td>2200.000000</td>\n",
              "    </tr>\n",
              "    <tr>\n",
              "      <th>mean</th>\n",
              "      <td>50.551818</td>\n",
              "      <td>53.362727</td>\n",
              "      <td>48.149091</td>\n",
              "      <td>25.616244</td>\n",
              "      <td>71.481779</td>\n",
              "      <td>6.469480</td>\n",
              "      <td>103.463655</td>\n",
              "    </tr>\n",
              "    <tr>\n",
              "      <th>std</th>\n",
              "      <td>36.917334</td>\n",
              "      <td>32.985883</td>\n",
              "      <td>50.647931</td>\n",
              "      <td>5.063749</td>\n",
              "      <td>22.263812</td>\n",
              "      <td>0.773938</td>\n",
              "      <td>54.958389</td>\n",
              "    </tr>\n",
              "    <tr>\n",
              "      <th>min</th>\n",
              "      <td>0.000000</td>\n",
              "      <td>5.000000</td>\n",
              "      <td>5.000000</td>\n",
              "      <td>8.825675</td>\n",
              "      <td>14.258040</td>\n",
              "      <td>3.504752</td>\n",
              "      <td>20.211267</td>\n",
              "    </tr>\n",
              "    <tr>\n",
              "      <th>25%</th>\n",
              "      <td>21.000000</td>\n",
              "      <td>28.000000</td>\n",
              "      <td>20.000000</td>\n",
              "      <td>22.769375</td>\n",
              "      <td>60.261953</td>\n",
              "      <td>5.971693</td>\n",
              "      <td>64.551686</td>\n",
              "    </tr>\n",
              "    <tr>\n",
              "      <th>50%</th>\n",
              "      <td>37.000000</td>\n",
              "      <td>51.000000</td>\n",
              "      <td>32.000000</td>\n",
              "      <td>25.598693</td>\n",
              "      <td>80.473146</td>\n",
              "      <td>6.425045</td>\n",
              "      <td>94.867624</td>\n",
              "    </tr>\n",
              "    <tr>\n",
              "      <th>75%</th>\n",
              "      <td>84.250000</td>\n",
              "      <td>68.000000</td>\n",
              "      <td>49.000000</td>\n",
              "      <td>28.561654</td>\n",
              "      <td>89.948771</td>\n",
              "      <td>6.923643</td>\n",
              "      <td>124.267508</td>\n",
              "    </tr>\n",
              "    <tr>\n",
              "      <th>max</th>\n",
              "      <td>140.000000</td>\n",
              "      <td>145.000000</td>\n",
              "      <td>205.000000</td>\n",
              "      <td>43.675493</td>\n",
              "      <td>99.981876</td>\n",
              "      <td>9.935091</td>\n",
              "      <td>298.560117</td>\n",
              "    </tr>\n",
              "  </tbody>\n",
              "</table>\n",
              "</div>\n",
              "    <div class=\"colab-df-buttons\">\n",
              "\n",
              "  <div class=\"colab-df-container\">\n",
              "    <button class=\"colab-df-convert\" onclick=\"convertToInteractive('df-cf929219-6237-4506-b26b-0919b038842b')\"\n",
              "            title=\"Convert this dataframe to an interactive table.\"\n",
              "            style=\"display:none;\">\n",
              "\n",
              "  <svg xmlns=\"http://www.w3.org/2000/svg\" height=\"24px\" viewBox=\"0 -960 960 960\">\n",
              "    <path d=\"M120-120v-720h720v720H120Zm60-500h600v-160H180v160Zm220 220h160v-160H400v160Zm0 220h160v-160H400v160ZM180-400h160v-160H180v160Zm440 0h160v-160H620v160ZM180-180h160v-160H180v160Zm440 0h160v-160H620v160Z\"/>\n",
              "  </svg>\n",
              "    </button>\n",
              "\n",
              "  <style>\n",
              "    .colab-df-container {\n",
              "      display:flex;\n",
              "      gap: 12px;\n",
              "    }\n",
              "\n",
              "    .colab-df-convert {\n",
              "      background-color: #E8F0FE;\n",
              "      border: none;\n",
              "      border-radius: 50%;\n",
              "      cursor: pointer;\n",
              "      display: none;\n",
              "      fill: #1967D2;\n",
              "      height: 32px;\n",
              "      padding: 0 0 0 0;\n",
              "      width: 32px;\n",
              "    }\n",
              "\n",
              "    .colab-df-convert:hover {\n",
              "      background-color: #E2EBFA;\n",
              "      box-shadow: 0px 1px 2px rgba(60, 64, 67, 0.3), 0px 1px 3px 1px rgba(60, 64, 67, 0.15);\n",
              "      fill: #174EA6;\n",
              "    }\n",
              "\n",
              "    .colab-df-buttons div {\n",
              "      margin-bottom: 4px;\n",
              "    }\n",
              "\n",
              "    [theme=dark] .colab-df-convert {\n",
              "      background-color: #3B4455;\n",
              "      fill: #D2E3FC;\n",
              "    }\n",
              "\n",
              "    [theme=dark] .colab-df-convert:hover {\n",
              "      background-color: #434B5C;\n",
              "      box-shadow: 0px 1px 3px 1px rgba(0, 0, 0, 0.15);\n",
              "      filter: drop-shadow(0px 1px 2px rgba(0, 0, 0, 0.3));\n",
              "      fill: #FFFFFF;\n",
              "    }\n",
              "  </style>\n",
              "\n",
              "    <script>\n",
              "      const buttonEl =\n",
              "        document.querySelector('#df-cf929219-6237-4506-b26b-0919b038842b button.colab-df-convert');\n",
              "      buttonEl.style.display =\n",
              "        google.colab.kernel.accessAllowed ? 'block' : 'none';\n",
              "\n",
              "      async function convertToInteractive(key) {\n",
              "        const element = document.querySelector('#df-cf929219-6237-4506-b26b-0919b038842b');\n",
              "        const dataTable =\n",
              "          await google.colab.kernel.invokeFunction('convertToInteractive',\n",
              "                                                    [key], {});\n",
              "        if (!dataTable) return;\n",
              "\n",
              "        const docLinkHtml = 'Like what you see? Visit the ' +\n",
              "          '<a target=\"_blank\" href=https://colab.research.google.com/notebooks/data_table.ipynb>data table notebook</a>'\n",
              "          + ' to learn more about interactive tables.';\n",
              "        element.innerHTML = '';\n",
              "        dataTable['output_type'] = 'display_data';\n",
              "        await google.colab.output.renderOutput(dataTable, element);\n",
              "        const docLink = document.createElement('div');\n",
              "        docLink.innerHTML = docLinkHtml;\n",
              "        element.appendChild(docLink);\n",
              "      }\n",
              "    </script>\n",
              "  </div>\n",
              "\n",
              "\n",
              "<div id=\"df-cf7d49a2-352f-4f28-b146-61167079118d\">\n",
              "  <button class=\"colab-df-quickchart\" onclick=\"quickchart('df-cf7d49a2-352f-4f28-b146-61167079118d')\"\n",
              "            title=\"Suggest charts\"\n",
              "            style=\"display:none;\">\n",
              "\n",
              "<svg xmlns=\"http://www.w3.org/2000/svg\" height=\"24px\"viewBox=\"0 0 24 24\"\n",
              "     width=\"24px\">\n",
              "    <g>\n",
              "        <path d=\"M19 3H5c-1.1 0-2 .9-2 2v14c0 1.1.9 2 2 2h14c1.1 0 2-.9 2-2V5c0-1.1-.9-2-2-2zM9 17H7v-7h2v7zm4 0h-2V7h2v10zm4 0h-2v-4h2v4z\"/>\n",
              "    </g>\n",
              "</svg>\n",
              "  </button>\n",
              "\n",
              "<style>\n",
              "  .colab-df-quickchart {\n",
              "      --bg-color: #E8F0FE;\n",
              "      --fill-color: #1967D2;\n",
              "      --hover-bg-color: #E2EBFA;\n",
              "      --hover-fill-color: #174EA6;\n",
              "      --disabled-fill-color: #AAA;\n",
              "      --disabled-bg-color: #DDD;\n",
              "  }\n",
              "\n",
              "  [theme=dark] .colab-df-quickchart {\n",
              "      --bg-color: #3B4455;\n",
              "      --fill-color: #D2E3FC;\n",
              "      --hover-bg-color: #434B5C;\n",
              "      --hover-fill-color: #FFFFFF;\n",
              "      --disabled-bg-color: #3B4455;\n",
              "      --disabled-fill-color: #666;\n",
              "  }\n",
              "\n",
              "  .colab-df-quickchart {\n",
              "    background-color: var(--bg-color);\n",
              "    border: none;\n",
              "    border-radius: 50%;\n",
              "    cursor: pointer;\n",
              "    display: none;\n",
              "    fill: var(--fill-color);\n",
              "    height: 32px;\n",
              "    padding: 0;\n",
              "    width: 32px;\n",
              "  }\n",
              "\n",
              "  .colab-df-quickchart:hover {\n",
              "    background-color: var(--hover-bg-color);\n",
              "    box-shadow: 0 1px 2px rgba(60, 64, 67, 0.3), 0 1px 3px 1px rgba(60, 64, 67, 0.15);\n",
              "    fill: var(--button-hover-fill-color);\n",
              "  }\n",
              "\n",
              "  .colab-df-quickchart-complete:disabled,\n",
              "  .colab-df-quickchart-complete:disabled:hover {\n",
              "    background-color: var(--disabled-bg-color);\n",
              "    fill: var(--disabled-fill-color);\n",
              "    box-shadow: none;\n",
              "  }\n",
              "\n",
              "  .colab-df-spinner {\n",
              "    border: 2px solid var(--fill-color);\n",
              "    border-color: transparent;\n",
              "    border-bottom-color: var(--fill-color);\n",
              "    animation:\n",
              "      spin 1s steps(1) infinite;\n",
              "  }\n",
              "\n",
              "  @keyframes spin {\n",
              "    0% {\n",
              "      border-color: transparent;\n",
              "      border-bottom-color: var(--fill-color);\n",
              "      border-left-color: var(--fill-color);\n",
              "    }\n",
              "    20% {\n",
              "      border-color: transparent;\n",
              "      border-left-color: var(--fill-color);\n",
              "      border-top-color: var(--fill-color);\n",
              "    }\n",
              "    30% {\n",
              "      border-color: transparent;\n",
              "      border-left-color: var(--fill-color);\n",
              "      border-top-color: var(--fill-color);\n",
              "      border-right-color: var(--fill-color);\n",
              "    }\n",
              "    40% {\n",
              "      border-color: transparent;\n",
              "      border-right-color: var(--fill-color);\n",
              "      border-top-color: var(--fill-color);\n",
              "    }\n",
              "    60% {\n",
              "      border-color: transparent;\n",
              "      border-right-color: var(--fill-color);\n",
              "    }\n",
              "    80% {\n",
              "      border-color: transparent;\n",
              "      border-right-color: var(--fill-color);\n",
              "      border-bottom-color: var(--fill-color);\n",
              "    }\n",
              "    90% {\n",
              "      border-color: transparent;\n",
              "      border-bottom-color: var(--fill-color);\n",
              "    }\n",
              "  }\n",
              "</style>\n",
              "\n",
              "  <script>\n",
              "    async function quickchart(key) {\n",
              "      const quickchartButtonEl =\n",
              "        document.querySelector('#' + key + ' button');\n",
              "      quickchartButtonEl.disabled = true;  // To prevent multiple clicks.\n",
              "      quickchartButtonEl.classList.add('colab-df-spinner');\n",
              "      try {\n",
              "        const charts = await google.colab.kernel.invokeFunction(\n",
              "            'suggestCharts', [key], {});\n",
              "      } catch (error) {\n",
              "        console.error('Error during call to suggestCharts:', error);\n",
              "      }\n",
              "      quickchartButtonEl.classList.remove('colab-df-spinner');\n",
              "      quickchartButtonEl.classList.add('colab-df-quickchart-complete');\n",
              "    }\n",
              "    (() => {\n",
              "      let quickchartButtonEl =\n",
              "        document.querySelector('#df-cf7d49a2-352f-4f28-b146-61167079118d button');\n",
              "      quickchartButtonEl.style.display =\n",
              "        google.colab.kernel.accessAllowed ? 'block' : 'none';\n",
              "    })();\n",
              "  </script>\n",
              "</div>\n",
              "\n",
              "    </div>\n",
              "  </div>\n"
            ]
          },
          "metadata": {},
          "execution_count": 10
        }
      ],
      "source": [
        "crop.describe()"
      ]
    },
    {
      "cell_type": "code",
      "execution_count": null,
      "metadata": {
        "id": "DMVySbFIaWtG",
        "colab": {
          "base_uri": "https://localhost:8080/",
          "height": 323
        },
        "outputId": "4f871bd2-4420-4c6c-f40e-8f9aeb05e24b"
      },
      "outputs": [
        {
          "output_type": "stream",
          "name": "stderr",
          "text": [
            "<ipython-input-11-1dcd70030872>:1: FutureWarning: The default value of numeric_only in DataFrame.corr is deprecated. In a future version, it will default to False. Select only valid columns or specify the value of numeric_only to silence this warning.\n",
            "  corr = crop.corr()\n"
          ]
        },
        {
          "output_type": "execute_result",
          "data": {
            "text/plain": [
              "                    N         P         K  temperature  humidity        ph  \\\n",
              "N            1.000000 -0.231460 -0.140512     0.026504  0.190688  0.096683   \n",
              "P           -0.231460  1.000000  0.736232    -0.127541 -0.118734 -0.138019   \n",
              "K           -0.140512  0.736232  1.000000    -0.160387  0.190859 -0.169503   \n",
              "temperature  0.026504 -0.127541 -0.160387     1.000000  0.205320 -0.017795   \n",
              "humidity     0.190688 -0.118734  0.190859     0.205320  1.000000 -0.008483   \n",
              "ph           0.096683 -0.138019 -0.169503    -0.017795 -0.008483  1.000000   \n",
              "rainfall     0.059020 -0.063839 -0.053461    -0.030084  0.094423 -0.109069   \n",
              "\n",
              "             rainfall  \n",
              "N            0.059020  \n",
              "P           -0.063839  \n",
              "K           -0.053461  \n",
              "temperature -0.030084  \n",
              "humidity     0.094423  \n",
              "ph          -0.109069  \n",
              "rainfall     1.000000  "
            ],
            "text/html": [
              "\n",
              "  <div id=\"df-8805ebdf-d186-4564-a16d-2e0e7e38a0b2\" class=\"colab-df-container\">\n",
              "    <div>\n",
              "<style scoped>\n",
              "    .dataframe tbody tr th:only-of-type {\n",
              "        vertical-align: middle;\n",
              "    }\n",
              "\n",
              "    .dataframe tbody tr th {\n",
              "        vertical-align: top;\n",
              "    }\n",
              "\n",
              "    .dataframe thead th {\n",
              "        text-align: right;\n",
              "    }\n",
              "</style>\n",
              "<table border=\"1\" class=\"dataframe\">\n",
              "  <thead>\n",
              "    <tr style=\"text-align: right;\">\n",
              "      <th></th>\n",
              "      <th>N</th>\n",
              "      <th>P</th>\n",
              "      <th>K</th>\n",
              "      <th>temperature</th>\n",
              "      <th>humidity</th>\n",
              "      <th>ph</th>\n",
              "      <th>rainfall</th>\n",
              "    </tr>\n",
              "  </thead>\n",
              "  <tbody>\n",
              "    <tr>\n",
              "      <th>N</th>\n",
              "      <td>1.000000</td>\n",
              "      <td>-0.231460</td>\n",
              "      <td>-0.140512</td>\n",
              "      <td>0.026504</td>\n",
              "      <td>0.190688</td>\n",
              "      <td>0.096683</td>\n",
              "      <td>0.059020</td>\n",
              "    </tr>\n",
              "    <tr>\n",
              "      <th>P</th>\n",
              "      <td>-0.231460</td>\n",
              "      <td>1.000000</td>\n",
              "      <td>0.736232</td>\n",
              "      <td>-0.127541</td>\n",
              "      <td>-0.118734</td>\n",
              "      <td>-0.138019</td>\n",
              "      <td>-0.063839</td>\n",
              "    </tr>\n",
              "    <tr>\n",
              "      <th>K</th>\n",
              "      <td>-0.140512</td>\n",
              "      <td>0.736232</td>\n",
              "      <td>1.000000</td>\n",
              "      <td>-0.160387</td>\n",
              "      <td>0.190859</td>\n",
              "      <td>-0.169503</td>\n",
              "      <td>-0.053461</td>\n",
              "    </tr>\n",
              "    <tr>\n",
              "      <th>temperature</th>\n",
              "      <td>0.026504</td>\n",
              "      <td>-0.127541</td>\n",
              "      <td>-0.160387</td>\n",
              "      <td>1.000000</td>\n",
              "      <td>0.205320</td>\n",
              "      <td>-0.017795</td>\n",
              "      <td>-0.030084</td>\n",
              "    </tr>\n",
              "    <tr>\n",
              "      <th>humidity</th>\n",
              "      <td>0.190688</td>\n",
              "      <td>-0.118734</td>\n",
              "      <td>0.190859</td>\n",
              "      <td>0.205320</td>\n",
              "      <td>1.000000</td>\n",
              "      <td>-0.008483</td>\n",
              "      <td>0.094423</td>\n",
              "    </tr>\n",
              "    <tr>\n",
              "      <th>ph</th>\n",
              "      <td>0.096683</td>\n",
              "      <td>-0.138019</td>\n",
              "      <td>-0.169503</td>\n",
              "      <td>-0.017795</td>\n",
              "      <td>-0.008483</td>\n",
              "      <td>1.000000</td>\n",
              "      <td>-0.109069</td>\n",
              "    </tr>\n",
              "    <tr>\n",
              "      <th>rainfall</th>\n",
              "      <td>0.059020</td>\n",
              "      <td>-0.063839</td>\n",
              "      <td>-0.053461</td>\n",
              "      <td>-0.030084</td>\n",
              "      <td>0.094423</td>\n",
              "      <td>-0.109069</td>\n",
              "      <td>1.000000</td>\n",
              "    </tr>\n",
              "  </tbody>\n",
              "</table>\n",
              "</div>\n",
              "    <div class=\"colab-df-buttons\">\n",
              "\n",
              "  <div class=\"colab-df-container\">\n",
              "    <button class=\"colab-df-convert\" onclick=\"convertToInteractive('df-8805ebdf-d186-4564-a16d-2e0e7e38a0b2')\"\n",
              "            title=\"Convert this dataframe to an interactive table.\"\n",
              "            style=\"display:none;\">\n",
              "\n",
              "  <svg xmlns=\"http://www.w3.org/2000/svg\" height=\"24px\" viewBox=\"0 -960 960 960\">\n",
              "    <path d=\"M120-120v-720h720v720H120Zm60-500h600v-160H180v160Zm220 220h160v-160H400v160Zm0 220h160v-160H400v160ZM180-400h160v-160H180v160Zm440 0h160v-160H620v160ZM180-180h160v-160H180v160Zm440 0h160v-160H620v160Z\"/>\n",
              "  </svg>\n",
              "    </button>\n",
              "\n",
              "  <style>\n",
              "    .colab-df-container {\n",
              "      display:flex;\n",
              "      gap: 12px;\n",
              "    }\n",
              "\n",
              "    .colab-df-convert {\n",
              "      background-color: #E8F0FE;\n",
              "      border: none;\n",
              "      border-radius: 50%;\n",
              "      cursor: pointer;\n",
              "      display: none;\n",
              "      fill: #1967D2;\n",
              "      height: 32px;\n",
              "      padding: 0 0 0 0;\n",
              "      width: 32px;\n",
              "    }\n",
              "\n",
              "    .colab-df-convert:hover {\n",
              "      background-color: #E2EBFA;\n",
              "      box-shadow: 0px 1px 2px rgba(60, 64, 67, 0.3), 0px 1px 3px 1px rgba(60, 64, 67, 0.15);\n",
              "      fill: #174EA6;\n",
              "    }\n",
              "\n",
              "    .colab-df-buttons div {\n",
              "      margin-bottom: 4px;\n",
              "    }\n",
              "\n",
              "    [theme=dark] .colab-df-convert {\n",
              "      background-color: #3B4455;\n",
              "      fill: #D2E3FC;\n",
              "    }\n",
              "\n",
              "    [theme=dark] .colab-df-convert:hover {\n",
              "      background-color: #434B5C;\n",
              "      box-shadow: 0px 1px 3px 1px rgba(0, 0, 0, 0.15);\n",
              "      filter: drop-shadow(0px 1px 2px rgba(0, 0, 0, 0.3));\n",
              "      fill: #FFFFFF;\n",
              "    }\n",
              "  </style>\n",
              "\n",
              "    <script>\n",
              "      const buttonEl =\n",
              "        document.querySelector('#df-8805ebdf-d186-4564-a16d-2e0e7e38a0b2 button.colab-df-convert');\n",
              "      buttonEl.style.display =\n",
              "        google.colab.kernel.accessAllowed ? 'block' : 'none';\n",
              "\n",
              "      async function convertToInteractive(key) {\n",
              "        const element = document.querySelector('#df-8805ebdf-d186-4564-a16d-2e0e7e38a0b2');\n",
              "        const dataTable =\n",
              "          await google.colab.kernel.invokeFunction('convertToInteractive',\n",
              "                                                    [key], {});\n",
              "        if (!dataTable) return;\n",
              "\n",
              "        const docLinkHtml = 'Like what you see? Visit the ' +\n",
              "          '<a target=\"_blank\" href=https://colab.research.google.com/notebooks/data_table.ipynb>data table notebook</a>'\n",
              "          + ' to learn more about interactive tables.';\n",
              "        element.innerHTML = '';\n",
              "        dataTable['output_type'] = 'display_data';\n",
              "        await google.colab.output.renderOutput(dataTable, element);\n",
              "        const docLink = document.createElement('div');\n",
              "        docLink.innerHTML = docLinkHtml;\n",
              "        element.appendChild(docLink);\n",
              "      }\n",
              "    </script>\n",
              "  </div>\n",
              "\n",
              "\n",
              "<div id=\"df-6c6c321e-b66e-499f-988c-0412b54bb3f6\">\n",
              "  <button class=\"colab-df-quickchart\" onclick=\"quickchart('df-6c6c321e-b66e-499f-988c-0412b54bb3f6')\"\n",
              "            title=\"Suggest charts\"\n",
              "            style=\"display:none;\">\n",
              "\n",
              "<svg xmlns=\"http://www.w3.org/2000/svg\" height=\"24px\"viewBox=\"0 0 24 24\"\n",
              "     width=\"24px\">\n",
              "    <g>\n",
              "        <path d=\"M19 3H5c-1.1 0-2 .9-2 2v14c0 1.1.9 2 2 2h14c1.1 0 2-.9 2-2V5c0-1.1-.9-2-2-2zM9 17H7v-7h2v7zm4 0h-2V7h2v10zm4 0h-2v-4h2v4z\"/>\n",
              "    </g>\n",
              "</svg>\n",
              "  </button>\n",
              "\n",
              "<style>\n",
              "  .colab-df-quickchart {\n",
              "      --bg-color: #E8F0FE;\n",
              "      --fill-color: #1967D2;\n",
              "      --hover-bg-color: #E2EBFA;\n",
              "      --hover-fill-color: #174EA6;\n",
              "      --disabled-fill-color: #AAA;\n",
              "      --disabled-bg-color: #DDD;\n",
              "  }\n",
              "\n",
              "  [theme=dark] .colab-df-quickchart {\n",
              "      --bg-color: #3B4455;\n",
              "      --fill-color: #D2E3FC;\n",
              "      --hover-bg-color: #434B5C;\n",
              "      --hover-fill-color: #FFFFFF;\n",
              "      --disabled-bg-color: #3B4455;\n",
              "      --disabled-fill-color: #666;\n",
              "  }\n",
              "\n",
              "  .colab-df-quickchart {\n",
              "    background-color: var(--bg-color);\n",
              "    border: none;\n",
              "    border-radius: 50%;\n",
              "    cursor: pointer;\n",
              "    display: none;\n",
              "    fill: var(--fill-color);\n",
              "    height: 32px;\n",
              "    padding: 0;\n",
              "    width: 32px;\n",
              "  }\n",
              "\n",
              "  .colab-df-quickchart:hover {\n",
              "    background-color: var(--hover-bg-color);\n",
              "    box-shadow: 0 1px 2px rgba(60, 64, 67, 0.3), 0 1px 3px 1px rgba(60, 64, 67, 0.15);\n",
              "    fill: var(--button-hover-fill-color);\n",
              "  }\n",
              "\n",
              "  .colab-df-quickchart-complete:disabled,\n",
              "  .colab-df-quickchart-complete:disabled:hover {\n",
              "    background-color: var(--disabled-bg-color);\n",
              "    fill: var(--disabled-fill-color);\n",
              "    box-shadow: none;\n",
              "  }\n",
              "\n",
              "  .colab-df-spinner {\n",
              "    border: 2px solid var(--fill-color);\n",
              "    border-color: transparent;\n",
              "    border-bottom-color: var(--fill-color);\n",
              "    animation:\n",
              "      spin 1s steps(1) infinite;\n",
              "  }\n",
              "\n",
              "  @keyframes spin {\n",
              "    0% {\n",
              "      border-color: transparent;\n",
              "      border-bottom-color: var(--fill-color);\n",
              "      border-left-color: var(--fill-color);\n",
              "    }\n",
              "    20% {\n",
              "      border-color: transparent;\n",
              "      border-left-color: var(--fill-color);\n",
              "      border-top-color: var(--fill-color);\n",
              "    }\n",
              "    30% {\n",
              "      border-color: transparent;\n",
              "      border-left-color: var(--fill-color);\n",
              "      border-top-color: var(--fill-color);\n",
              "      border-right-color: var(--fill-color);\n",
              "    }\n",
              "    40% {\n",
              "      border-color: transparent;\n",
              "      border-right-color: var(--fill-color);\n",
              "      border-top-color: var(--fill-color);\n",
              "    }\n",
              "    60% {\n",
              "      border-color: transparent;\n",
              "      border-right-color: var(--fill-color);\n",
              "    }\n",
              "    80% {\n",
              "      border-color: transparent;\n",
              "      border-right-color: var(--fill-color);\n",
              "      border-bottom-color: var(--fill-color);\n",
              "    }\n",
              "    90% {\n",
              "      border-color: transparent;\n",
              "      border-bottom-color: var(--fill-color);\n",
              "    }\n",
              "  }\n",
              "</style>\n",
              "\n",
              "  <script>\n",
              "    async function quickchart(key) {\n",
              "      const quickchartButtonEl =\n",
              "        document.querySelector('#' + key + ' button');\n",
              "      quickchartButtonEl.disabled = true;  // To prevent multiple clicks.\n",
              "      quickchartButtonEl.classList.add('colab-df-spinner');\n",
              "      try {\n",
              "        const charts = await google.colab.kernel.invokeFunction(\n",
              "            'suggestCharts', [key], {});\n",
              "      } catch (error) {\n",
              "        console.error('Error during call to suggestCharts:', error);\n",
              "      }\n",
              "      quickchartButtonEl.classList.remove('colab-df-spinner');\n",
              "      quickchartButtonEl.classList.add('colab-df-quickchart-complete');\n",
              "    }\n",
              "    (() => {\n",
              "      let quickchartButtonEl =\n",
              "        document.querySelector('#df-6c6c321e-b66e-499f-988c-0412b54bb3f6 button');\n",
              "      quickchartButtonEl.style.display =\n",
              "        google.colab.kernel.accessAllowed ? 'block' : 'none';\n",
              "    })();\n",
              "  </script>\n",
              "</div>\n",
              "\n",
              "  <div id=\"id_69b416ed-f7f3-4d57-bdaf-d3e46bc49013\">\n",
              "    <style>\n",
              "      .colab-df-generate {\n",
              "        background-color: #E8F0FE;\n",
              "        border: none;\n",
              "        border-radius: 50%;\n",
              "        cursor: pointer;\n",
              "        display: none;\n",
              "        fill: #1967D2;\n",
              "        height: 32px;\n",
              "        padding: 0 0 0 0;\n",
              "        width: 32px;\n",
              "      }\n",
              "\n",
              "      .colab-df-generate:hover {\n",
              "        background-color: #E2EBFA;\n",
              "        box-shadow: 0px 1px 2px rgba(60, 64, 67, 0.3), 0px 1px 3px 1px rgba(60, 64, 67, 0.15);\n",
              "        fill: #174EA6;\n",
              "      }\n",
              "\n",
              "      [theme=dark] .colab-df-generate {\n",
              "        background-color: #3B4455;\n",
              "        fill: #D2E3FC;\n",
              "      }\n",
              "\n",
              "      [theme=dark] .colab-df-generate:hover {\n",
              "        background-color: #434B5C;\n",
              "        box-shadow: 0px 1px 3px 1px rgba(0, 0, 0, 0.15);\n",
              "        filter: drop-shadow(0px 1px 2px rgba(0, 0, 0, 0.3));\n",
              "        fill: #FFFFFF;\n",
              "      }\n",
              "    </style>\n",
              "    <button class=\"colab-df-generate\" onclick=\"generateWithVariable('corr')\"\n",
              "            title=\"Generate code using this dataframe.\"\n",
              "            style=\"display:none;\">\n",
              "\n",
              "  <svg xmlns=\"http://www.w3.org/2000/svg\" height=\"24px\"viewBox=\"0 0 24 24\"\n",
              "       width=\"24px\">\n",
              "    <path d=\"M7,19H8.4L18.45,9,17,7.55,7,17.6ZM5,21V16.75L18.45,3.32a2,2,0,0,1,2.83,0l1.4,1.43a1.91,1.91,0,0,1,.58,1.4,1.91,1.91,0,0,1-.58,1.4L9.25,21ZM18.45,9,17,7.55Zm-12,3A5.31,5.31,0,0,0,4.9,8.1,5.31,5.31,0,0,0,1,6.5,5.31,5.31,0,0,0,4.9,4.9,5.31,5.31,0,0,0,6.5,1,5.31,5.31,0,0,0,8.1,4.9,5.31,5.31,0,0,0,12,6.5,5.46,5.46,0,0,0,6.5,12Z\"/>\n",
              "  </svg>\n",
              "    </button>\n",
              "    <script>\n",
              "      (() => {\n",
              "      const buttonEl =\n",
              "        document.querySelector('#id_69b416ed-f7f3-4d57-bdaf-d3e46bc49013 button.colab-df-generate');\n",
              "      buttonEl.style.display =\n",
              "        google.colab.kernel.accessAllowed ? 'block' : 'none';\n",
              "\n",
              "      buttonEl.onclick = () => {\n",
              "        google.colab.notebook.generateWithVariable('corr');\n",
              "      }\n",
              "      })();\n",
              "    </script>\n",
              "  </div>\n",
              "\n",
              "    </div>\n",
              "  </div>\n"
            ]
          },
          "metadata": {},
          "execution_count": 11
        }
      ],
      "source": [
        "corr = crop.corr()\n",
        "corr"
      ]
    },
    {
      "cell_type": "code",
      "execution_count": null,
      "metadata": {
        "id": "W5rKlWBVaZR2",
        "colab": {
          "base_uri": "https://localhost:8080/",
          "height": 526
        },
        "outputId": "54ef29b6-5fe3-4691-cdd9-5b7d2d751699"
      },
      "outputs": [
        {
          "output_type": "execute_result",
          "data": {
            "text/plain": [
              "<Axes: >"
            ]
          },
          "metadata": {},
          "execution_count": 12
        },
        {
          "output_type": "display_data",
          "data": {
            "text/plain": [
              "<Figure size 640x480 with 2 Axes>"
            ],
            "image/png": "[encoded data removed]"
          },
          "metadata": {}
        }
      ],
      "source": [
        "import seaborn as sns\n",
        "sns.heatmap(corr,annot=True, cbar=True,cmap='coolwarm')"
      ]
    },
    {
      "cell_type": "code",
      "execution_count": null,
      "metadata": {
        "id": "J88Yv2Jcag6W",
        "colab": {
          "base_uri": "https://localhost:8080/"
        },
        "outputId": "b84d462b-0c3f-4b63-cc36-9c4bbe9c4445"
      },
      "outputs": [
        {
          "output_type": "execute_result",
          "data": {
            "text/plain": [
              "rice           100\n",
              "maize          100\n",
              "jute           100\n",
              "cotton         100\n",
              "coconut        100\n",
              "papaya         100\n",
              "orange         100\n",
              "apple          100\n",
              "muskmelon      100\n",
              "watermelon     100\n",
              "grapes         100\n",
              "mango          100\n",
              "banana         100\n",
              "pomegranate    100\n",
              "lentil         100\n",
              "blackgram      100\n",
              "mungbean       100\n",
              "mothbeans      100\n",
              "pigeonpeas     100\n",
              "kidneybeans    100\n",
              "chickpea       100\n",
              "coffee         100\n",
              "Name: label, dtype: int64"
            ]
          },
          "metadata": {},
          "execution_count": 13
        }
      ],
      "source": [
        "crop['label'].value_counts()"
      ]
    },
    {
      "cell_type": "code",
      "execution_count": null,
      "metadata": {
        "id": "4kUKrbS6a-uW",
        "colab": {
          "base_uri": "https://localhost:8080/"
        },
        "outputId": "56316c66-61a4-4400-c007-110915bd6a2d"
      },
      "outputs": [
        {
          "output_type": "execute_result",
          "data": {
            "text/plain": [
              "22"
            ]
          },
          "metadata": {},
          "execution_count": 14
        }
      ],
      "source": [
        "crop['label'].nunique() # This means 22 labels are there"
      ]
    },
    {
      "cell_type": "code",
      "execution_count": null,
      "metadata": {
        "id": "Q4Druydabb91",
        "colab": {
          "base_uri": "https://localhost:8080/"
        },
        "outputId": "ece7d3c3-4d76-48ba-f99a-f528bf943a74"
      },
      "outputs": [
        {
          "output_type": "stream",
          "name": "stdout",
          "text": [
            "    N   P   K  temperature   humidity        ph    rainfall label\n",
            "0  90  42  43    20.879744  82.002744  6.502985  202.935536  rice\n",
            "1  85  58  41    21.770462  80.319644  7.038096  226.655537  rice\n",
            "2  60  55  44    23.004459  82.320763  7.840207  263.964248  rice\n",
            "3  74  35  40    26.491096  80.158363  6.980401  242.864034  rice\n",
            "4  78  42  42    20.130175  81.604873  7.628473  262.717340  rice\n"
          ]
        }
      ],
      "source": [
        "print(crop.head())"
      ]
    },
    {
      "cell_type": "code",
      "execution_count": null,
      "metadata": {
        "id": "P3XzutlKbNay"
      },
      "outputs": [],
      "source": [
        "X = crop.drop('label',axis=1)\n",
        "y = crop['label']"
      ]
    },
    {
      "cell_type": "code",
      "execution_count": null,
      "metadata": {
        "id": "_lclyp2NbVK-",
        "colab": {
          "base_uri": "https://localhost:8080/"
        },
        "outputId": "d1bc93da-11a0-4951-fe9c-59f087eada80"
      },
      "outputs": [
        {
          "output_type": "execute_result",
          "data": {
            "text/plain": [
              "(2200, 7)"
            ]
          },
          "metadata": {},
          "execution_count": 17
        }
      ],
      "source": [
        "X.shape"
      ]
    },
    {
      "cell_type": "code",
      "execution_count": null,
      "metadata": {
        "id": "S8LdgEvjbdjj",
        "colab": {
          "base_uri": "https://localhost:8080/"
        },
        "outputId": "2ec64178-8f00-4357-aeb1-1a31488b39d6"
      },
      "outputs": [
        {
          "output_type": "execute_result",
          "data": {
            "text/plain": [
              "(2200,)"
            ]
          },
          "metadata": {},
          "execution_count": 18
        }
      ],
      "source": [
        "y.shape"
      ]
    },
    {
      "cell_type": "code",
      "execution_count": null,
      "metadata": {
        "id": "fQtlNoUZbrwv",
        "colab": {
          "base_uri": "https://localhost:8080/"
        },
        "outputId": "a4496615-6ab1-4e35-d7df-3be7cc5f9853"
      },
      "outputs": [
        {
          "output_type": "execute_result",
          "data": {
            "text/plain": [
              "22"
            ]
          },
          "metadata": {},
          "execution_count": 19
        }
      ],
      "source": [
        "y.nunique()"
      ]
    },
    {
      "cell_type": "markdown",
      "source": [
        "# TRAIN TEST SPLIT"
      ],
      "metadata": {
        "id": "gZpYyR57T7OD"
      }
    },
    {
      "cell_type": "code",
      "execution_count": null,
      "metadata": {
        "id": "GXI9aTKYbgTK"
      },
      "outputs": [],
      "source": [
        "from sklearn.model_selection import train_test_split"
      ]
    },
    {
      "cell_type": "code",
      "execution_count": null,
      "metadata": {
        "id": "o7DhBceHbjx4"
      },
      "outputs": [],
      "source": [
        "X_train,X_test,y_train,y_test = train_test_split(X, y, test_size=0.2, random_state=42)"
      ]
    },
    {
      "cell_type": "code",
      "execution_count": null,
      "metadata": {
        "id": "PihRbgxfbpfo",
        "colab": {
          "base_uri": "https://localhost:8080/"
        },
        "outputId": "82c4a954-4b73-4ce9-e6f3-4ccd29e0bf76"
      },
      "outputs": [
        {
          "output_type": "execute_result",
          "data": {
            "text/plain": [
              "(1760, 7)"
            ]
          },
          "metadata": {},
          "execution_count": 23
        }
      ],
      "source": [
        "X_train.shape"
      ]
    },
    {
      "cell_type": "code",
      "execution_count": null,
      "metadata": {
        "id": "b3S7zH3Bbrqt",
        "colab": {
          "base_uri": "https://localhost:8080/"
        },
        "outputId": "f11787ed-a212-4506-b0fd-7758179dd0cb"
      },
      "outputs": [
        {
          "output_type": "execute_result",
          "data": {
            "text/plain": [
              "(440, 7)"
            ]
          },
          "metadata": {},
          "execution_count": 24
        }
      ],
      "source": [
        "X_test.shape"
      ]
    },
    {
      "cell_type": "code",
      "execution_count": null,
      "metadata": {
        "id": "T_vHo500bwOP",
        "colab": {
          "base_uri": "https://localhost:8080/",
          "height": 423
        },
        "outputId": "51f3a7da-becd-4c04-e75a-3572547a1582"
      },
      "outputs": [
        {
          "output_type": "execute_result",
          "data": {
            "text/plain": [
              "        N    P    K  temperature   humidity        ph    rainfall\n",
              "1656   17   16   14    16.396243  92.181519  6.625539  102.944161\n",
              "752    37   79   19    27.543848  69.347863  7.143943   69.408782\n",
              "892     7   73   25    27.521856  63.132153  7.288057   45.208411\n",
              "1041  101   70   48    25.360592  75.031933  6.012697  116.553145\n",
              "1179    0   17   30    35.474783  47.972305  6.279134   97.790725\n",
              "...   ...  ...  ...          ...        ...       ...         ...\n",
              "1638   10    5    5    21.213070  91.353492  7.817846  112.983436\n",
              "1095  108   94   47    27.359116  84.546250  6.387431   90.812505\n",
              "1130   11   36   31    27.920633  51.779659  6.475449  100.258567\n",
              "1294   11  124  204    13.429886  80.066340  6.361141   71.400430\n",
              "860    32   78   22    23.970814  62.355576  7.007038   53.409060\n",
              "\n",
              "[1760 rows x 7 columns]"
            ],
            "text/html": [
              "\n",
              "  <div id=\"df-c14a9063-4632-46bb-a610-379be0396093\" class=\"colab-df-container\">\n",
              "    <div>\n",
              "<style scoped>\n",
              "    .dataframe tbody tr th:only-of-type {\n",
              "        vertical-align: middle;\n",
              "    }\n",
              "\n",
              "    .dataframe tbody tr th {\n",
              "        vertical-align: top;\n",
              "    }\n",
              "\n",
              "    .dataframe thead th {\n",
              "        text-align: right;\n",
              "    }\n",
              "</style>\n",
              "<table border=\"1\" class=\"dataframe\">\n",
              "  <thead>\n",
              "    <tr style=\"text-align: right;\">\n",
              "      <th></th>\n",
              "      <th>N</th>\n",
              "      <th>P</th>\n",
              "      <th>K</th>\n",
              "      <th>temperature</th>\n",
              "      <th>humidity</th>\n",
              "      <th>ph</th>\n",
              "      <th>rainfall</th>\n",
              "    </tr>\n",
              "  </thead>\n",
              "  <tbody>\n",
              "    <tr>\n",
              "      <th>1656</th>\n",
              "      <td>17</td>\n",
              "      <td>16</td>\n",
              "      <td>14</td>\n",
              "      <td>16.396243</td>\n",
              "      <td>92.181519</td>\n",
              "      <td>6.625539</td>\n",
              "      <td>102.944161</td>\n",
              "    </tr>\n",
              "    <tr>\n",
              "      <th>752</th>\n",
              "      <td>37</td>\n",
              "      <td>79</td>\n",
              "      <td>19</td>\n",
              "      <td>27.543848</td>\n",
              "      <td>69.347863</td>\n",
              "      <td>7.143943</td>\n",
              "      <td>69.408782</td>\n",
              "    </tr>\n",
              "    <tr>\n",
              "      <th>892</th>\n",
              "      <td>7</td>\n",
              "      <td>73</td>\n",
              "      <td>25</td>\n",
              "      <td>27.521856</td>\n",
              "      <td>63.132153</td>\n",
              "      <td>7.288057</td>\n",
              "      <td>45.208411</td>\n",
              "    </tr>\n",
              "    <tr>\n",
              "      <th>1041</th>\n",
              "      <td>101</td>\n",
              "      <td>70</td>\n",
              "      <td>48</td>\n",
              "      <td>25.360592</td>\n",
              "      <td>75.031933</td>\n",
              "      <td>6.012697</td>\n",
              "      <td>116.553145</td>\n",
              "    </tr>\n",
              "    <tr>\n",
              "      <th>1179</th>\n",
              "      <td>0</td>\n",
              "      <td>17</td>\n",
              "      <td>30</td>\n",
              "      <td>35.474783</td>\n",
              "      <td>47.972305</td>\n",
              "      <td>6.279134</td>\n",
              "      <td>97.790725</td>\n",
              "    </tr>\n",
              "    <tr>\n",
              "      <th>...</th>\n",
              "      <td>...</td>\n",
              "      <td>...</td>\n",
              "      <td>...</td>\n",
              "      <td>...</td>\n",
              "      <td>...</td>\n",
              "      <td>...</td>\n",
              "      <td>...</td>\n",
              "    </tr>\n",
              "    <tr>\n",
              "      <th>1638</th>\n",
              "      <td>10</td>\n",
              "      <td>5</td>\n",
              "      <td>5</td>\n",
              "      <td>21.213070</td>\n",
              "      <td>91.353492</td>\n",
              "      <td>7.817846</td>\n",
              "      <td>112.983436</td>\n",
              "    </tr>\n",
              "    <tr>\n",
              "      <th>1095</th>\n",
              "      <td>108</td>\n",
              "      <td>94</td>\n",
              "      <td>47</td>\n",
              "      <td>27.359116</td>\n",
              "      <td>84.546250</td>\n",
              "      <td>6.387431</td>\n",
              "      <td>90.812505</td>\n",
              "    </tr>\n",
              "    <tr>\n",
              "      <th>1130</th>\n",
              "      <td>11</td>\n",
              "      <td>36</td>\n",
              "      <td>31</td>\n",
              "      <td>27.920633</td>\n",
              "      <td>51.779659</td>\n",
              "      <td>6.475449</td>\n",
              "      <td>100.258567</td>\n",
              "    </tr>\n",
              "    <tr>\n",
              "      <th>1294</th>\n",
              "      <td>11</td>\n",
              "      <td>124</td>\n",
              "      <td>204</td>\n",
              "      <td>13.429886</td>\n",
              "      <td>80.066340</td>\n",
              "      <td>6.361141</td>\n",
              "      <td>71.400430</td>\n",
              "    </tr>\n",
              "    <tr>\n",
              "      <th>860</th>\n",
              "      <td>32</td>\n",
              "      <td>78</td>\n",
              "      <td>22</td>\n",
              "      <td>23.970814</td>\n",
              "      <td>62.355576</td>\n",
              "      <td>7.007038</td>\n",
              "      <td>53.409060</td>\n",
              "    </tr>\n",
              "  </tbody>\n",
              "</table>\n",
              "<p>1760 rows × 7 columns</p>\n",
              "</div>\n",
              "    <div class=\"colab-df-buttons\">\n",
              "\n",
              "  <div class=\"colab-df-container\">\n",
              "    <button class=\"colab-df-convert\" onclick=\"convertToInteractive('df-c14a9063-4632-46bb-a610-379be0396093')\"\n",
              "            title=\"Convert this dataframe to an interactive table.\"\n",
              "            style=\"display:none;\">\n",
              "\n",
              "  <svg xmlns=\"http://www.w3.org/2000/svg\" height=\"24px\" viewBox=\"0 -960 960 960\">\n",
              "    <path d=\"M120-120v-720h720v720H120Zm60-500h600v-160H180v160Zm220 220h160v-160H400v160Zm0 220h160v-160H400v160ZM180-400h160v-160H180v160Zm440 0h160v-160H620v160ZM180-180h160v-160H180v160Zm440 0h160v-160H620v160Z\"/>\n",
              "  </svg>\n",
              "    </button>\n",
              "\n",
              "  <style>\n",
              "    .colab-df-container {\n",
              "      display:flex;\n",
              "      gap: 12px;\n",
              "    }\n",
              "\n",
              "    .colab-df-convert {\n",
              "      background-color: #E8F0FE;\n",
              "      border: none;\n",
              "      border-radius: 50%;\n",
              "      cursor: pointer;\n",
              "      display: none;\n",
              "      fill: #1967D2;\n",
              "      height: 32px;\n",
              "      padding: 0 0 0 0;\n",
              "      width: 32px;\n",
              "    }\n",
              "\n",
              "    .colab-df-convert:hover {\n",
              "      background-color: #E2EBFA;\n",
              "      box-shadow: 0px 1px 2px rgba(60, 64, 67, 0.3), 0px 1px 3px 1px rgba(60, 64, 67, 0.15);\n",
              "      fill: #174EA6;\n",
              "    }\n",
              "\n",
              "    .colab-df-buttons div {\n",
              "      margin-bottom: 4px;\n",
              "    }\n",
              "\n",
              "    [theme=dark] .colab-df-convert {\n",
              "      background-color: #3B4455;\n",
              "      fill: #D2E3FC;\n",
              "    }\n",
              "\n",
              "    [theme=dark] .colab-df-convert:hover {\n",
              "      background-color: #434B5C;\n",
              "      box-shadow: 0px 1px 3px 1px rgba(0, 0, 0, 0.15);\n",
              "      filter: drop-shadow(0px 1px 2px rgba(0, 0, 0, 0.3));\n",
              "      fill: #FFFFFF;\n",
              "    }\n",
              "  </style>\n",
              "\n",
              "    <script>\n",
              "      const buttonEl =\n",
              "        document.querySelector('#df-c14a9063-4632-46bb-a610-379be0396093 button.colab-df-convert');\n",
              "      buttonEl.style.display =\n",
              "        google.colab.kernel.accessAllowed ? 'block' : 'none';\n",
              "\n",
              "      async function convertToInteractive(key) {\n",
              "        const element = document.querySelector('#df-c14a9063-4632-46bb-a610-379be0396093');\n",
              "        const dataTable =\n",
              "          await google.colab.kernel.invokeFunction('convertToInteractive',\n",
              "                                                    [key], {});\n",
              "        if (!dataTable) return;\n",
              "\n",
              "        const docLinkHtml = 'Like what you see? Visit the ' +\n",
              "          '<a target=\"_blank\" href=https://colab.research.google.com/notebooks/data_table.ipynb>data table notebook</a>'\n",
              "          + ' to learn more about interactive tables.';\n",
              "        element.innerHTML = '';\n",
              "        dataTable['output_type'] = 'display_data';\n",
              "        await google.colab.output.renderOutput(dataTable, element);\n",
              "        const docLink = document.createElement('div');\n",
              "        docLink.innerHTML = docLinkHtml;\n",
              "        element.appendChild(docLink);\n",
              "      }\n",
              "    </script>\n",
              "  </div>\n",
              "\n",
              "\n",
              "<div id=\"df-7baae9aa-2646-46a4-b3c6-00fe9d322232\">\n",
              "  <button class=\"colab-df-quickchart\" onclick=\"quickchart('df-7baae9aa-2646-46a4-b3c6-00fe9d322232')\"\n",
              "            title=\"Suggest charts\"\n",
              "            style=\"display:none;\">\n",
              "\n",
              "<svg xmlns=\"http://www.w3.org/2000/svg\" height=\"24px\"viewBox=\"0 0 24 24\"\n",
              "     width=\"24px\">\n",
              "    <g>\n",
              "        <path d=\"M19 3H5c-1.1 0-2 .9-2 2v14c0 1.1.9 2 2 2h14c1.1 0 2-.9 2-2V5c0-1.1-.9-2-2-2zM9 17H7v-7h2v7zm4 0h-2V7h2v10zm4 0h-2v-4h2v4z\"/>\n",
              "    </g>\n",
              "</svg>\n",
              "  </button>\n",
              "\n",
              "<style>\n",
              "  .colab-df-quickchart {\n",
              "      --bg-color: #E8F0FE;\n",
              "      --fill-color: #1967D2;\n",
              "      --hover-bg-color: #E2EBFA;\n",
              "      --hover-fill-color: #174EA6;\n",
              "      --disabled-fill-color: #AAA;\n",
              "      --disabled-bg-color: #DDD;\n",
              "  }\n",
              "\n",
              "  [theme=dark] .colab-df-quickchart {\n",
              "      --bg-color: #3B4455;\n",
              "      --fill-color: #D2E3FC;\n",
              "      --hover-bg-color: #434B5C;\n",
              "      --hover-fill-color: #FFFFFF;\n",
              "      --disabled-bg-color: #3B4455;\n",
              "      --disabled-fill-color: #666;\n",
              "  }\n",
              "\n",
              "  .colab-df-quickchart {\n",
              "    background-color: var(--bg-color);\n",
              "    border: none;\n",
              "    border-radius: 50%;\n",
              "    cursor: pointer;\n",
              "    display: none;\n",
              "    fill: var(--fill-color);\n",
              "    height: 32px;\n",
              "    padding: 0;\n",
              "    width: 32px;\n",
              "  }\n",
              "\n",
              "  .colab-df-quickchart:hover {\n",
              "    background-color: var(--hover-bg-color);\n",
              "    box-shadow: 0 1px 2px rgba(60, 64, 67, 0.3), 0 1px 3px 1px rgba(60, 64, 67, 0.15);\n",
              "    fill: var(--button-hover-fill-color);\n",
              "  }\n",
              "\n",
              "  .colab-df-quickchart-complete:disabled,\n",
              "  .colab-df-quickchart-complete:disabled:hover {\n",
              "    background-color: var(--disabled-bg-color);\n",
              "    fill: var(--disabled-fill-color);\n",
              "    box-shadow: none;\n",
              "  }\n",
              "\n",
              "  .colab-df-spinner {\n",
              "    border: 2px solid var(--fill-color);\n",
              "    border-color: transparent;\n",
              "    border-bottom-color: var(--fill-color);\n",
              "    animation:\n",
              "      spin 1s steps(1) infinite;\n",
              "  }\n",
              "\n",
              "  @keyframes spin {\n",
              "    0% {\n",
              "      border-color: transparent;\n",
              "      border-bottom-color: var(--fill-color);\n",
              "      border-left-color: var(--fill-color);\n",
              "    }\n",
              "    20% {\n",
              "      border-color: transparent;\n",
              "      border-left-color: var(--fill-color);\n",
              "      border-top-color: var(--fill-color);\n",
              "    }\n",
              "    30% {\n",
              "      border-color: transparent;\n",
              "      border-left-color: var(--fill-color);\n",
              "      border-top-color: var(--fill-color);\n",
              "      border-right-color: var(--fill-color);\n",
              "    }\n",
              "    40% {\n",
              "      border-color: transparent;\n",
              "      border-right-color: var(--fill-color);\n",
              "      border-top-color: var(--fill-color);\n",
              "    }\n",
              "    60% {\n",
              "      border-color: transparent;\n",
              "      border-right-color: var(--fill-color);\n",
              "    }\n",
              "    80% {\n",
              "      border-color: transparent;\n",
              "      border-right-color: var(--fill-color);\n",
              "      border-bottom-color: var(--fill-color);\n",
              "    }\n",
              "    90% {\n",
              "      border-color: transparent;\n",
              "      border-bottom-color: var(--fill-color);\n",
              "    }\n",
              "  }\n",
              "</style>\n",
              "\n",
              "  <script>\n",
              "    async function quickchart(key) {\n",
              "      const quickchartButtonEl =\n",
              "        document.querySelector('#' + key + ' button');\n",
              "      quickchartButtonEl.disabled = true;  // To prevent multiple clicks.\n",
              "      quickchartButtonEl.classList.add('colab-df-spinner');\n",
              "      try {\n",
              "        const charts = await google.colab.kernel.invokeFunction(\n",
              "            'suggestCharts', [key], {});\n",
              "      } catch (error) {\n",
              "        console.error('Error during call to suggestCharts:', error);\n",
              "      }\n",
              "      quickchartButtonEl.classList.remove('colab-df-spinner');\n",
              "      quickchartButtonEl.classList.add('colab-df-quickchart-complete');\n",
              "    }\n",
              "    (() => {\n",
              "      let quickchartButtonEl =\n",
              "        document.querySelector('#df-7baae9aa-2646-46a4-b3c6-00fe9d322232 button');\n",
              "      quickchartButtonEl.style.display =\n",
              "        google.colab.kernel.accessAllowed ? 'block' : 'none';\n",
              "    })();\n",
              "  </script>\n",
              "</div>\n",
              "\n",
              "  <div id=\"id_c9996a58-12ca-4417-83d3-b58027b6be0f\">\n",
              "    <style>\n",
              "      .colab-df-generate {\n",
              "        background-color: #E8F0FE;\n",
              "        border: none;\n",
              "        border-radius: 50%;\n",
              "        cursor: pointer;\n",
              "        display: none;\n",
              "        fill: #1967D2;\n",
              "        height: 32px;\n",
              "        padding: 0 0 0 0;\n",
              "        width: 32px;\n",
              "      }\n",
              "\n",
              "      .colab-df-generate:hover {\n",
              "        background-color: #E2EBFA;\n",
              "        box-shadow: 0px 1px 2px rgba(60, 64, 67, 0.3), 0px 1px 3px 1px rgba(60, 64, 67, 0.15);\n",
              "        fill: #174EA6;\n",
              "      }\n",
              "\n",
              "      [theme=dark] .colab-df-generate {\n",
              "        background-color: #3B4455;\n",
              "        fill: #D2E3FC;\n",
              "      }\n",
              "\n",
              "      [theme=dark] .colab-df-generate:hover {\n",
              "        background-color: #434B5C;\n",
              "        box-shadow: 0px 1px 3px 1px rgba(0, 0, 0, 0.15);\n",
              "        filter: drop-shadow(0px 1px 2px rgba(0, 0, 0, 0.3));\n",
              "        fill: #FFFFFF;\n",
              "      }\n",
              "    </style>\n",
              "    <button class=\"colab-df-generate\" onclick=\"generateWithVariable('X_train')\"\n",
              "            title=\"Generate code using this dataframe.\"\n",
              "            style=\"display:none;\">\n",
              "\n",
              "  <svg xmlns=\"http://www.w3.org/2000/svg\" height=\"24px\"viewBox=\"0 0 24 24\"\n",
              "       width=\"24px\">\n",
              "    <path d=\"M7,19H8.4L18.45,9,17,7.55,7,17.6ZM5,21V16.75L18.45,3.32a2,2,0,0,1,2.83,0l1.4,1.43a1.91,1.91,0,0,1,.58,1.4,1.91,1.91,0,0,1-.58,1.4L9.25,21ZM18.45,9,17,7.55Zm-12,3A5.31,5.31,0,0,0,4.9,8.1,5.31,5.31,0,0,0,1,6.5,5.31,5.31,0,0,0,4.9,4.9,5.31,5.31,0,0,0,6.5,1,5.31,5.31,0,0,0,8.1,4.9,5.31,5.31,0,0,0,12,6.5,5.46,5.46,0,0,0,6.5,12Z\"/>\n",
              "  </svg>\n",
              "    </button>\n",
              "    <script>\n",
              "      (() => {\n",
              "      const buttonEl =\n",
              "        document.querySelector('#id_c9996a58-12ca-4417-83d3-b58027b6be0f button.colab-df-generate');\n",
              "      buttonEl.style.display =\n",
              "        google.colab.kernel.accessAllowed ? 'block' : 'none';\n",
              "\n",
              "      buttonEl.onclick = () => {\n",
              "        google.colab.notebook.generateWithVariable('X_train');\n",
              "      }\n",
              "      })();\n",
              "    </script>\n",
              "  </div>\n",
              "\n",
              "    </div>\n",
              "  </div>\n"
            ]
          },
          "metadata": {},
          "execution_count": 25
        }
      ],
      "source": [
        "X_train"
      ]
    },
    {
      "cell_type": "markdown",
      "source": [
        "# RANDOM FOREST"
      ],
      "metadata": {
        "id": "_207jnW9Qy1Q"
      }
    },
    {
      "cell_type": "code",
      "source": [
        "from sklearn.metrics import accuracy_score\n",
        "from sklearn.metrics import classification_report"
      ],
      "metadata": {
        "id": "o9nn4RdfQUKy"
      },
      "execution_count": null,
      "outputs": []
    },
    {
      "cell_type": "code",
      "source": [
        "from sklearn.ensemble import RandomForestClassifier\n",
        "from sklearn.model_selection import train_test_split\n",
        "from sklearn.metrics import accuracy_score, classification_report\n",
        "import matplotlib.pyplot as plt\n",
        "\n",
        "n_estimators = 100\n",
        "max_depth = 5\n",
        "\n",
        "model_RFC = RandomForestClassifier(n_estimators=n_estimators, max_depth=max_depth)\n",
        "\n",
        "training_accuracy = []\n",
        "validation_accuracy = []\n",
        "\n",
        "for epoch in range(1,n_estimators+1):\n",
        "    model_RFC.fit(X_train, y_train)\n",
        "\n",
        "    # Make predictions on the training set\n",
        "    train_predictions = model_RFC.predict(X_train)\n",
        "\n",
        "    # Make predictions on the validation set\n",
        "    val_predictions = model_RFC.predict(X_test)\n",
        "\n",
        "    # Calculate accuracy on training and validation sets\n",
        "    train_accuracy = accuracy_score(y_train, train_predictions)\n",
        "    val_accuracy = accuracy_score(y_test, val_predictions)\n",
        "\n",
        "    # Store accuracy scores\n",
        "    training_accuracy.append(train_accuracy)\n",
        "    validation_accuracy.append(val_accuracy)\n",
        "\n",
        "    if epoch%10 == 0:\n",
        "      print(f'Epoch {epoch}: Training Accuracy = {train_accuracy:.4f}, Validation Accuracy = {val_accuracy:.4f}')\n"
      ],
      "metadata": {
        "colab": {
          "base_uri": "https://localhost:8080/"
        },
        "id": "C6mblL3SQWjO",
        "outputId": "f8f75459-7dc4-43ae-f5d8-f30072b91b29"
      },
      "execution_count": null,
      "outputs": [
        {
          "output_type": "stream",
          "name": "stdout",
          "text": [
            "Epoch 10: Training Accuracy = 0.9790, Validation Accuracy = 0.9614\n",
            "Epoch 20: Training Accuracy = 0.9710, Validation Accuracy = 0.9636\n",
            "Epoch 30: Training Accuracy = 0.9665, Validation Accuracy = 0.9727\n",
            "Epoch 40: Training Accuracy = 0.9852, Validation Accuracy = 0.9773\n",
            "Epoch 50: Training Accuracy = 0.9824, Validation Accuracy = 0.9705\n",
            "Epoch 60: Training Accuracy = 0.9892, Validation Accuracy = 0.9818\n",
            "Epoch 70: Training Accuracy = 0.9710, Validation Accuracy = 0.9750\n",
            "Epoch 80: Training Accuracy = 0.9608, Validation Accuracy = 0.9500\n",
            "Epoch 90: Training Accuracy = 0.9886, Validation Accuracy = 0.9818\n",
            "Epoch 100: Training Accuracy = 0.9909, Validation Accuracy = 0.9795\n"
          ]
        }
      ]
    },
    {
      "cell_type": "code",
      "source": [
        "# Plot the accuracy after every 10 epochs\n",
        "plt.plot(range(1, n_estimators + 1), training_accuracy, label='Training Accuracy')\n",
        "plt.plot(range(1, n_estimators + 1), validation_accuracy, label='Validation Accuracy')\n",
        "plt.xlabel('Number of Trees')\n",
        "plt.ylabel('Accuracy')\n",
        "plt.legend()\n",
        "plt.show()"
      ],
      "metadata": {
        "id": "rAVnON_XvIz1",
        "outputId": "5b6dd16c-cdac-4aba-ad8f-25675231e630",
        "colab": {
          "base_uri": "https://localhost:8080/",
          "height": 449
        }
      },
      "execution_count": null,
      "outputs": [
        {
          "output_type": "display_data",
          "data": {
            "text/plain": [
              "<Figure size 640x480 with 1 Axes>"
            ],
            "image/png": "[encoded data removed]"
          },
          "metadata": {}
        }
      ]
    },
    {
      "cell_type": "code",
      "source": [
        "from sklearn.ensemble import RandomForestClassifier\n",
        "model_RFC1 = RandomForestClassifier(n_estimators = 500, max_depth= 5)\n",
        "model_RFC1.fit(X_train,y_train)\n",
        "y_pred = model_RFC1.predict(X_test)\n",
        "print(accuracy_score(y_pred,y_test))\n"
      ],
      "metadata": {
        "id": "SDvR4QH358Vj",
        "outputId": "8be959a0-9945-460b-832c-f126051de2c7",
        "colab": {
          "base_uri": "https://localhost:8080/"
        }
      },
      "execution_count": null,
      "outputs": [
        {
          "output_type": "stream",
          "name": "stdout",
          "text": [
            "0.9772727272727273\n"
          ]
        }
      ]
    },
    {
      "cell_type": "code",
      "source": [
        "from sklearn.ensemble import RandomForestClassifier\n",
        "import matplotlib.pyplot as plt\n",
        "\n",
        "model_RFC = RandomForestClassifier(n_estimators = 500, max_depth = 5)\n",
        "history1 = model_RFC.fit(X_train, y_train)\n",
        "y_pred = model_RFC.predict(X_test)\n",
        "print(f'Accuracy for Random Forest classifier model is : {accuracy_score(y_pred, y_test)}')\n",
        "print(classification_report(y_pred,y_test))"
      ],
      "metadata": {
        "colab": {
          "base_uri": "https://localhost:8080/"
        },
        "id": "Zb2PX62cRH6Y",
        "outputId": "8772b6e6-5585-4658-f475-51c16a329625"
      },
      "execution_count": null,
      "outputs": [
        {
          "output_type": "stream",
          "name": "stdout",
          "text": [
            "Accuracy for Random Forest classifier model is : 0.9840909090909091\n",
            "              precision    recall  f1-score   support\n",
            "\n",
            "       apple       1.00      1.00      1.00        23\n",
            "      banana       1.00      1.00      1.00        21\n",
            "   blackgram       1.00      0.87      0.93        23\n",
            "    chickpea       1.00      1.00      1.00        26\n",
            "     coconut       1.00      1.00      1.00        27\n",
            "      coffee       1.00      1.00      1.00        17\n",
            "      cotton       1.00      1.00      1.00        17\n",
            "      grapes       1.00      1.00      1.00        14\n",
            "        jute       0.96      0.92      0.94        24\n",
            " kidneybeans       1.00      1.00      1.00        20\n",
            "      lentil       1.00      0.92      0.96        12\n",
            "       maize       1.00      1.00      1.00        21\n",
            "       mango       1.00      1.00      1.00        19\n",
            "   mothbeans       0.83      1.00      0.91        20\n",
            "    mungbean       1.00      1.00      1.00        19\n",
            "   muskmelon       1.00      1.00      1.00        17\n",
            "      orange       1.00      1.00      1.00        14\n",
            "      papaya       1.00      1.00      1.00        23\n",
            "  pigeonpeas       1.00      1.00      1.00        23\n",
            " pomegranate       1.00      1.00      1.00        23\n",
            "        rice       0.89      0.94      0.92        18\n",
            "  watermelon       1.00      1.00      1.00        19\n",
            "\n",
            "    accuracy                           0.98       440\n",
            "   macro avg       0.99      0.98      0.98       440\n",
            "weighted avg       0.99      0.98      0.98       440\n",
            "\n"
          ]
        }
      ]
    },
    {
      "cell_type": "markdown",
      "source": [
        "# LOGISTIC REGRESSION MODEL"
      ],
      "metadata": {
        "id": "W2ChAjo9Q4fo"
      }
    },
    {
      "cell_type": "code",
      "source": [
        "from sklearn.linear_model import LogisticRegression\n",
        "from sklearn.model_selection import train_test_split\n",
        "from sklearn.metrics import accuracy_score\n",
        "import matplotlib.pyplot as plt\n",
        "\n",
        "model_LRC = LogisticRegression(max_iter=1000)\n",
        "\n",
        "training_accuracy = []\n",
        "validation_accuracy = []\n",
        "\n",
        "model_LRC.fit(X_train, y_train)\n",
        "\n",
        "train_predictions = model_LRC.predict(X_train)\n",
        "\n",
        "# Make predictions on the validation set\n",
        "val_predictions = model_LRC.predict(X_test)\n",
        "\n",
        "# Calculate accuracy on training and validation sets\n",
        "train_accuracy = accuracy_score(y_train, train_predictions)\n",
        "val_accuracy = accuracy_score(y_test, val_predictions)\n",
        "\n",
        "# Store accuracy scores\n",
        "training_accuracy.append(train_accuracy)\n",
        "validation_accuracy.append(val_accuracy)\n",
        "\n",
        "print(f'Training Accuracy = {train_accuracy:.4f}, Validation Accuracy = {val_accuracy:.4f}')\n"
      ],
      "metadata": {
        "id": "7rF0yEBpyl0O",
        "outputId": "59fe7e21-8c57-455e-aa78-b25bbbb06cc8",
        "colab": {
          "base_uri": "https://localhost:8080/"
        }
      },
      "execution_count": null,
      "outputs": [
        {
          "output_type": "stream",
          "name": "stdout",
          "text": [
            "Training Accuracy = 0.9801, Validation Accuracy = 0.9545\n"
          ]
        }
      ]
    },
    {
      "cell_type": "code",
      "source": [
        "from sklearn.linear_model import LogisticRegression\n",
        "import matplotlib.pyplot as plt\n",
        "\n",
        "model_LRC = LogisticRegression()\n",
        "history1 = model_LRC.fit(X_train, y_train)\n",
        "y_pred = model_LRC.predict(X_test)\n",
        "print(f'Accuracy for Logistic Regression classifier model is : {accuracy_score(y_pred, y_test)}')\n",
        "print(classification_report(y_pred,y_test))"
      ],
      "metadata": {
        "id": "zmMU_36v0Wox",
        "outputId": "88da9d36-4bd4-4beb-90fd-77b6a9066953",
        "colab": {
          "base_uri": "https://localhost:8080/"
        }
      },
      "execution_count": null,
      "outputs": [
        {
          "output_type": "stream",
          "name": "stdout",
          "text": [
            "Accuracy for Logistic Regression classifier model is : 0.9454545454545454\n",
            "              precision    recall  f1-score   support\n",
            "\n",
            "       apple       1.00      1.00      1.00        23\n",
            "      banana       1.00      0.95      0.98        22\n",
            "   blackgram       0.75      0.83      0.79        18\n",
            "    chickpea       1.00      1.00      1.00        26\n",
            "     coconut       1.00      1.00      1.00        27\n",
            "      coffee       1.00      0.94      0.97        18\n",
            "      cotton       0.94      0.80      0.86        20\n",
            "      grapes       1.00      1.00      1.00        14\n",
            "        jute       0.87      0.91      0.89        22\n",
            " kidneybeans       0.95      1.00      0.97        19\n",
            "      lentil       0.91      0.83      0.87        12\n",
            "       maize       0.76      0.94      0.84        17\n",
            "       mango       1.00      0.95      0.97        20\n",
            "   mothbeans       0.92      0.85      0.88        26\n",
            "    mungbean       1.00      0.95      0.97        20\n",
            "   muskmelon       1.00      1.00      1.00        17\n",
            "      orange       1.00      1.00      1.00        14\n",
            "      papaya       0.91      0.95      0.93        22\n",
            "  pigeonpeas       0.91      0.95      0.93        22\n",
            " pomegranate       1.00      1.00      1.00        23\n",
            "        rice       0.89      0.89      0.89        19\n",
            "  watermelon       1.00      1.00      1.00        19\n",
            "\n",
            "    accuracy                           0.95       440\n",
            "   macro avg       0.95      0.94      0.94       440\n",
            "weighted avg       0.95      0.95      0.95       440\n",
            "\n"
          ]
        }
      ]
    },
    {
      "cell_type": "markdown",
      "source": [
        "# STOCHASTIC GRADIENT DESCENT"
      ],
      "metadata": {
        "id": "Ri--wlbUy0El"
      }
    },
    {
      "cell_type": "code",
      "source": [
        "from sklearn.linear_model import SGDClassifier\n",
        "from sklearn.model_selection import train_test_split\n",
        "from sklearn.metrics import accuracy_score\n",
        "import matplotlib.pyplot as plt\n",
        "from sklearn.linear_model import SGDClassifier\n",
        "import numpy as np\n",
        "\n",
        "model_SGD = SGDClassifier(max_iter=100000)\n",
        "\n",
        "training_accuracy = []\n",
        "validation_accuracy = []\n",
        "\n",
        "# Train the model incrementally and record accuracy after every step\n",
        "for step in range(1, 101):\n",
        "    model_SGD.fit(X_train, y_train)\n",
        "\n",
        "    # Make predictions on the training set\n",
        "    train_predictions = model_SGD.predict(X_train)\n",
        "\n",
        "    # Make predictions on the validation set\n",
        "    val_predictions = model_SGD.predict(X_test)\n",
        "\n",
        "    # Calculate accuracy on training and validation sets\n",
        "    train_accuracy = accuracy_score(y_train, train_predictions)\n",
        "    val_accuracy = accuracy_score(y_test, val_predictions)\n",
        "\n",
        "    # Store accuracy scores\n",
        "    training_accuracy.append(train_accuracy)\n",
        "    validation_accuracy.append(val_accuracy)\n",
        "\n",
        "    if step % 10 == 0:\n",
        "        print(f'Epoch {step}: Training Accuracy = {train_accuracy:.4f}, Validation Accuracy = {val_accuracy:.4f}')\n"
      ],
      "metadata": {
        "colab": {
          "base_uri": "https://localhost:8080/"
        },
        "id": "lMJwBCIUQ3L3",
        "outputId": "2dd12966-4fe2-4a20-cac5-56717164dc28"
      },
      "execution_count": null,
      "outputs": [
        {
          "output_type": "stream",
          "name": "stdout",
          "text": [
            "Epoch 10: Training Accuracy = 0.7977, Validation Accuracy = 0.7295\n",
            "Epoch 20: Training Accuracy = 0.7682, Validation Accuracy = 0.7386\n",
            "Epoch 30: Training Accuracy = 0.6648, Validation Accuracy = 0.6250\n",
            "Epoch 40: Training Accuracy = 0.8017, Validation Accuracy = 0.7705\n",
            "Epoch 50: Training Accuracy = 0.7545, Validation Accuracy = 0.7068\n",
            "Epoch 60: Training Accuracy = 0.6733, Validation Accuracy = 0.6455\n",
            "Epoch 70: Training Accuracy = 0.6972, Validation Accuracy = 0.6386\n",
            "Epoch 80: Training Accuracy = 0.7381, Validation Accuracy = 0.6682\n",
            "Epoch 90: Training Accuracy = 0.7994, Validation Accuracy = 0.7477\n",
            "Epoch 100: Training Accuracy = 0.7722, Validation Accuracy = 0.7136\n"
          ]
        }
      ]
    },
    {
      "cell_type": "code",
      "source": [
        "plt.plot(range(1, 101), training_accuracy, label='Training Accuracy')\n",
        "plt.plot(range(1, 101), validation_accuracy, label='Validation Accuracy')\n",
        "plt.xlabel('Training Data Size')\n",
        "plt.ylabel('Accuracy')\n",
        "plt.legend()\n",
        "plt.show()"
      ],
      "metadata": {
        "id": "zSymbXNzw2yG",
        "outputId": "6efac3af-4522-48cb-c22b-883660acb1cb",
        "colab": {
          "base_uri": "https://localhost:8080/",
          "height": 449
        }
      },
      "execution_count": null,
      "outputs": [
        {
          "output_type": "display_data",
          "data": {
            "text/plain": [
              "<Figure size 640x480 with 1 Axes>"
            ],
            "image/png": "[encoded data removed]"
          },
          "metadata": {}
        }
      ]
    },
    {
      "cell_type": "markdown",
      "source": [
        "# GAUSSIAN NAIVE BAYES"
      ],
      "metadata": {
        "id": "MnpDHCEIRXFj"
      }
    },
    {
      "cell_type": "code",
      "source": [
        "from sklearn.naive_bayes import GaussianNB\n",
        "from sklearn.model_selection import train_test_split\n",
        "from sklearn.metrics import accuracy_score\n",
        "import matplotlib.pyplot as plt\n",
        "import warnings\n",
        "from sklearn.exceptions import ConvergenceWarning  # Import ConvergenceWarning\n",
        "\n",
        "# Create a Gaussian Naive Bayes classifier\n",
        "model_GNB = GaussianNB()  # Increase max_iter to avoid ConvergenceWarning\n",
        "\n",
        "# Disable ConvergenceWarning\n",
        "warnings.filterwarnings(\"ignore\", category=ConvergenceWarning)\n",
        "\n",
        "training_accuracy = []\n",
        "validation_accuracy = []\n",
        "\n",
        "for step in range(1, 101, 1):\n",
        "    # Train the model with a subset of data\n",
        "    model_GNB.fit(X_train[:step+100], y_train[:step+100])\n",
        "\n",
        "    # Make predictions on the training set\n",
        "    train_predictions = model_GNB.predict(X_train)\n",
        "\n",
        "    # Make predictions on the validation set\n",
        "    val_predictions = model_GNB.predict(X_test)\n",
        "\n",
        "    # Calculate accuracy on training and validation sets\n",
        "    train_accuracy = accuracy_score(y_train, train_predictions)\n",
        "    val_accuracy = accuracy_score(y_test, val_predictions)\n",
        "\n",
        "    # Store accuracy scores\n",
        "    training_accuracy.append(train_accuracy)\n",
        "    validation_accuracy.append(val_accuracy)\n",
        "\n",
        "    if step%10 == 0:\n",
        "      print(f'Step {step}: Training Accuracy = {train_accuracy:.4f}, Validation Accuracy = {val_accuracy:.4f}')\n",
        "\n",
        "\n"
      ],
      "metadata": {
        "colab": {
          "base_uri": "https://localhost:8080/"
        },
        "id": "ZgrM8PXvRcn7",
        "outputId": "43aa329c-9128-4b66-c929-0fd7cb0949ae"
      },
      "execution_count": null,
      "outputs": [
        {
          "output_type": "stream",
          "name": "stdout",
          "text": [
            "Step 10: Training Accuracy = 0.8040, Validation Accuracy = 0.7705\n",
            "Step 20: Training Accuracy = 0.8108, Validation Accuracy = 0.7682\n",
            "Step 30: Training Accuracy = 0.8972, Validation Accuracy = 0.8591\n",
            "Step 40: Training Accuracy = 0.9045, Validation Accuracy = 0.8727\n",
            "Step 50: Training Accuracy = 0.9062, Validation Accuracy = 0.8750\n",
            "Step 60: Training Accuracy = 0.9227, Validation Accuracy = 0.9000\n",
            "Step 70: Training Accuracy = 0.9420, Validation Accuracy = 0.9227\n",
            "Step 80: Training Accuracy = 0.9403, Validation Accuracy = 0.9273\n",
            "Step 90: Training Accuracy = 0.9682, Validation Accuracy = 0.9705\n",
            "Step 100: Training Accuracy = 0.9733, Validation Accuracy = 0.9682\n"
          ]
        }
      ]
    },
    {
      "cell_type": "code",
      "source": [
        "plt.plot(range(1, 101, 1), training_accuracy, label='Training Accuracy')\n",
        "plt.plot(range(1, 101, 1), validation_accuracy, label='Validation Accuracy')\n",
        "plt.xlabel('Training Data Size')\n",
        "plt.ylabel('Accuracy')\n",
        "plt.legend()\n",
        "plt.show()"
      ],
      "metadata": {
        "id": "eEbIOuog0gFc",
        "outputId": "cae48693-5fe5-4f43-dbdf-9d0175d7b0b0",
        "colab": {
          "base_uri": "https://localhost:8080/",
          "height": 449
        }
      },
      "execution_count": null,
      "outputs": [
        {
          "output_type": "display_data",
          "data": {
            "text/plain": [
              "<Figure size 640x480 with 1 Axes>"
            ],
            "image/png": "[encoded data removed]"
          },
          "metadata": {}
        }
      ]
    },
    {
      "cell_type": "code",
      "source": [
        "from sklearn.naive_bayes import GaussianNB\n",
        "model_GNB1 = GaussianNB()\n",
        "model_GNB1.fit(X_train,y_train)\n",
        "y_pred = model_GNB1.predict(X_test)\n",
        "print(accuracy_score(y_pred,y_test))"
      ],
      "metadata": {
        "id": "YrlLBmax7GFi",
        "outputId": "e2f1e146-ba6a-4cd2-f219-354e8bdb583a",
        "colab": {
          "base_uri": "https://localhost:8080/"
        }
      },
      "execution_count": null,
      "outputs": [
        {
          "output_type": "stream",
          "name": "stdout",
          "text": [
            "0.9954545454545455\n"
          ]
        }
      ]
    },
    {
      "cell_type": "code",
      "source": [
        "from sklearn.naive_bayes import GaussianNB\n",
        "import matplotlib.pyplot as plt\n",
        "\n",
        "model_GNB = GaussianNB()\n",
        "history1 = model_GNB.fit(X_train, y_train)\n",
        "y_pred = model_GNB.predict(X_test)\n",
        "print(f'Accuracy for Gaussian Naive Bayes classifier model is : {accuracy_score(y_pred, y_test)}')\n",
        "print(classification_report(y_pred,y_test))"
      ],
      "metadata": {
        "colab": {
          "base_uri": "https://localhost:8080/"
        },
        "id": "vxfxvxoORglk",
        "outputId": "99f7358e-9a3d-4a07-cb3a-b482b03bc3e0"
      },
      "execution_count": null,
      "outputs": [
        {
          "output_type": "stream",
          "name": "stdout",
          "text": [
            "Accuracy for Gaussian Naive Bayes classifier model is : 0.9954545454545455\n",
            "              precision    recall  f1-score   support\n",
            "\n",
            "       apple       1.00      1.00      1.00        23\n",
            "      banana       1.00      1.00      1.00        21\n",
            "   blackgram       1.00      1.00      1.00        20\n",
            "    chickpea       1.00      1.00      1.00        26\n",
            "     coconut       1.00      1.00      1.00        27\n",
            "      coffee       1.00      1.00      1.00        17\n",
            "      cotton       1.00      1.00      1.00        17\n",
            "      grapes       1.00      1.00      1.00        14\n",
            "        jute       1.00      0.92      0.96        25\n",
            " kidneybeans       1.00      1.00      1.00        20\n",
            "      lentil       1.00      1.00      1.00        11\n",
            "       maize       1.00      1.00      1.00        21\n",
            "       mango       1.00      1.00      1.00        19\n",
            "   mothbeans       1.00      1.00      1.00        24\n",
            "    mungbean       1.00      1.00      1.00        19\n",
            "   muskmelon       1.00      1.00      1.00        17\n",
            "      orange       1.00      1.00      1.00        14\n",
            "      papaya       1.00      1.00      1.00        23\n",
            "  pigeonpeas       1.00      1.00      1.00        23\n",
            " pomegranate       1.00      1.00      1.00        23\n",
            "        rice       0.89      1.00      0.94        17\n",
            "  watermelon       1.00      1.00      1.00        19\n",
            "\n",
            "    accuracy                           1.00       440\n",
            "   macro avg       1.00      1.00      1.00       440\n",
            "weighted avg       1.00      1.00      1.00       440\n",
            "\n"
          ]
        }
      ]
    },
    {
      "cell_type": "markdown",
      "source": [
        "# SUPPORT VECTOR MACHINE"
      ],
      "metadata": {
        "id": "OfF4GvkSRq0C"
      }
    },
    {
      "cell_type": "code",
      "source": [
        "from sklearn.svm import SVC\n",
        "from sklearn.model_selection import train_test_split\n",
        "from sklearn.metrics import accuracy_score\n",
        "import matplotlib.pyplot as plt\n",
        "import warnings\n",
        "from sklearn.exceptions import ConvergenceWarning  # Import ConvergenceWarning\n",
        "\n",
        "# Create a Support Vector Machine classifier\n",
        "model_SVC = SVC()  # Increase max_iter to avoid ConvergenceWarning\n",
        "\n",
        "# Disable ConvergenceWarning\n",
        "warnings.filterwarnings(\"ignore\", category=ConvergenceWarning)\n",
        "\n",
        "# Lists to store accuracy scores\n",
        "training_accuracy = []\n",
        "validation_accuracy = []\n",
        "\n",
        "for step in range(1, 101, 1):\n",
        "    # Train the model with a subset of data\n",
        "    model_SVC.fit(X_train[:step+100], y_train[:step+100])\n",
        "\n",
        "    # Make predictions on the training set\n",
        "    train_predictions = model_SVC.predict(X_train)\n",
        "\n",
        "    # Make predictions on the validation set\n",
        "    val_predictions = model_SVC.predict(X_test)\n",
        "\n",
        "    # Calculate accuracy on training and validation sets\n",
        "    train_accuracy = accuracy_score(y_train, train_predictions)\n",
        "    val_accuracy = accuracy_score(y_test, val_predictions)\n",
        "\n",
        "    # Store accuracy scores\n",
        "    training_accuracy.append(train_accuracy)\n",
        "    validation_accuracy.append(val_accuracy)\n",
        "\n",
        "    if step%10 == 0:\n",
        "      print(f'Step {step}: Training Accuracy = {train_accuracy:.4f}, Validation Accuracy = {val_accuracy:.4f}')"
      ],
      "metadata": {
        "colab": {
          "base_uri": "https://localhost:8080/"
        },
        "id": "_O7vTkKMRqvg",
        "outputId": "eb3d2bda-0155-4778-88d6-9669c981a7b5"
      },
      "execution_count": null,
      "outputs": [
        {
          "output_type": "stream",
          "name": "stdout",
          "text": [
            "Step 10: Training Accuracy = 0.5381, Validation Accuracy = 0.5068\n",
            "Step 20: Training Accuracy = 0.5148, Validation Accuracy = 0.5159\n",
            "Step 30: Training Accuracy = 0.5733, Validation Accuracy = 0.5705\n",
            "Step 40: Training Accuracy = 0.5790, Validation Accuracy = 0.5818\n",
            "Step 50: Training Accuracy = 0.6392, Validation Accuracy = 0.6114\n",
            "Step 60: Training Accuracy = 0.6926, Validation Accuracy = 0.6545\n",
            "Step 70: Training Accuracy = 0.6835, Validation Accuracy = 0.6500\n",
            "Step 80: Training Accuracy = 0.7011, Validation Accuracy = 0.6614\n",
            "Step 90: Training Accuracy = 0.7727, Validation Accuracy = 0.7477\n",
            "Step 100: Training Accuracy = 0.8347, Validation Accuracy = 0.8091\n"
          ]
        }
      ]
    },
    {
      "cell_type": "code",
      "source": [
        "plt.plot(range(1, 101, 1), training_accuracy, label='Training Accuracy')\n",
        "plt.plot(range(1, 101, 1), validation_accuracy, label='Validation Accuracy')\n",
        "plt.xlabel('Training Data Size')\n",
        "plt.ylabel('Accuracy')\n",
        "plt.legend()\n",
        "plt.show()\n"
      ],
      "metadata": {
        "id": "5nbbVxzN15qJ",
        "outputId": "51937005-e60f-4782-e4d4-12ff57be047d",
        "colab": {
          "base_uri": "https://localhost:8080/",
          "height": 453
        }
      },
      "execution_count": null,
      "outputs": [
        {
          "output_type": "display_data",
          "data": {
            "text/plain": [
              "<Figure size 640x480 with 1 Axes>"
            ],
            "image/png": "[encoded data removed]"
          },
          "metadata": {}
        }
      ]
    },
    {
      "cell_type": "code",
      "source": [
        "from sklearn.svm import SVC\n",
        "model_SVC1 = SVC()\n",
        "model_SVC1.fit(X_train,y_train)\n",
        "y_pred = model_SVC1.predict(X_test)\n",
        "print(accuracy_score(y_pred,y_test))"
      ],
      "metadata": {
        "id": "Tn671BKr7Vua",
        "outputId": "7a993832-fcc4-4878-c628-30081227a9ee",
        "colab": {
          "base_uri": "https://localhost:8080/"
        }
      },
      "execution_count": null,
      "outputs": [
        {
          "output_type": "stream",
          "name": "stdout",
          "text": [
            "0.9613636363636363\n"
          ]
        }
      ]
    },
    {
      "cell_type": "code",
      "source": [
        "from sklearn.svm import SVC\n",
        "import matplotlib.pyplot as plt\n",
        "\n",
        "model_SVC = SVC()\n",
        "history1 = model_SVC.fit(X_train, y_train)\n",
        "y_pred = model_SVC.predict(X_test)\n",
        "print(f'Accuracy for Support Vector classifier model is : {accuracy_score(y_pred, y_test)}')\n",
        "print(classification_report(y_pred,y_test))"
      ],
      "metadata": {
        "colab": {
          "base_uri": "https://localhost:8080/"
        },
        "id": "Wb-uZiqdRqtB",
        "outputId": "c353ea80-a35d-4f40-9b5e-66d571e14500"
      },
      "execution_count": null,
      "outputs": [
        {
          "output_type": "stream",
          "name": "stdout",
          "text": [
            "Accuracy for Support Vector classifier model is : 0.9613636363636363\n",
            "              precision    recall  f1-score   support\n",
            "\n",
            "       apple       1.00      1.00      1.00        23\n",
            "      banana       1.00      1.00      1.00        21\n",
            "   blackgram       1.00      0.91      0.95        22\n",
            "    chickpea       1.00      1.00      1.00        26\n",
            "     coconut       1.00      1.00      1.00        27\n",
            "      coffee       0.94      1.00      0.97        16\n",
            "      cotton       1.00      0.85      0.92        20\n",
            "      grapes       1.00      1.00      1.00        14\n",
            "        jute       1.00      0.77      0.87        30\n",
            " kidneybeans       1.00      0.95      0.98        21\n",
            "      lentil       1.00      0.79      0.88        14\n",
            "       maize       0.86      1.00      0.92        18\n",
            "       mango       1.00      1.00      1.00        19\n",
            "   mothbeans       0.88      1.00      0.93        21\n",
            "    mungbean       1.00      1.00      1.00        19\n",
            "   muskmelon       1.00      1.00      1.00        17\n",
            "      orange       1.00      1.00      1.00        14\n",
            "      papaya       0.96      1.00      0.98        22\n",
            "  pigeonpeas       0.87      1.00      0.93        20\n",
            " pomegranate       1.00      1.00      1.00        23\n",
            "        rice       0.68      0.93      0.79        14\n",
            "  watermelon       1.00      1.00      1.00        19\n",
            "\n",
            "    accuracy                           0.96       440\n",
            "   macro avg       0.96      0.96      0.96       440\n",
            "weighted avg       0.97      0.96      0.96       440\n",
            "\n"
          ]
        }
      ]
    },
    {
      "cell_type": "markdown",
      "source": [
        "# DECISION TREE MODEL"
      ],
      "metadata": {
        "id": "ZIGzSJFiRqqR"
      }
    },
    {
      "cell_type": "code",
      "source": [
        "from sklearn.tree import DecisionTreeClassifier\n",
        "from sklearn.model_selection import train_test_split\n",
        "from sklearn.metrics import accuracy_score\n",
        "import matplotlib.pyplot as plt\n",
        "import warnings\n",
        "from sklearn.exceptions import ConvergenceWarning  # Import ConvergenceWarning\n",
        "\n",
        "# Create a Decision tree classifier\n",
        "model_DTC = DecisionTreeClassifier(max_leaf_nodes = 25, min_samples_split = 4, random_state = 42)  # Increase max_iter to avoid ConvergenceWarning\n",
        "\n",
        "# Disable ConvergenceWarning\n",
        "warnings.filterwarnings(\"ignore\", category=ConvergenceWarning)\n",
        "\n",
        "training_accuracy = []\n",
        "validation_accuracy = []\n",
        "\n",
        "for step in range(1, 101, 1):\n",
        "    model_DTC.fit(X_train[:step], y_train[:step])\n",
        "\n",
        "    # Make predictions on the training set\n",
        "    train_predictions = model_DTC.predict(X_train)\n",
        "\n",
        "    # Make predictions on the validation set\n",
        "    val_predictions = model_DTC.predict(X_test)\n",
        "\n",
        "    # Calculate accuracy on training and validation sets\n",
        "    train_accuracy = accuracy_score(y_train, train_predictions)\n",
        "    val_accuracy = accuracy_score(y_test, val_predictions)\n",
        "\n",
        "    # Store accuracy scores\n",
        "    training_accuracy.append(train_accuracy)\n",
        "    validation_accuracy.append(val_accuracy)\n",
        "\n",
        "    if step%10 == 0:\n",
        "      print(f'Epoch {step}: Training Accuracy = {train_accuracy:.4f}, Validation Accuracy = {val_accuracy:.4f}')\n",
        "\n"
      ],
      "metadata": {
        "colab": {
          "base_uri": "https://localhost:8080/"
        },
        "id": "y9qBXaw9RqnR",
        "outputId": "5cbeef1e-aa61-419d-9b06-9de8a43d7c1b"
      },
      "execution_count": null,
      "outputs": [
        {
          "output_type": "stream",
          "name": "stdout",
          "text": [
            "Epoch 10: Training Accuracy = 0.1284, Validation Accuracy = 0.1068\n",
            "Epoch 20: Training Accuracy = 0.2773, Validation Accuracy = 0.2864\n",
            "Epoch 30: Training Accuracy = 0.3932, Validation Accuracy = 0.3659\n",
            "Epoch 40: Training Accuracy = 0.5193, Validation Accuracy = 0.4864\n",
            "Epoch 50: Training Accuracy = 0.5324, Validation Accuracy = 0.5273\n",
            "Epoch 60: Training Accuracy = 0.6051, Validation Accuracy = 0.5727\n",
            "Epoch 70: Training Accuracy = 0.6472, Validation Accuracy = 0.6227\n",
            "Epoch 80: Training Accuracy = 0.7489, Validation Accuracy = 0.7000\n",
            "Epoch 90: Training Accuracy = 0.7415, Validation Accuracy = 0.7091\n",
            "Epoch 100: Training Accuracy = 0.7551, Validation Accuracy = 0.7205\n"
          ]
        }
      ]
    },
    {
      "cell_type": "code",
      "source": [
        "plt.plot(range(1, 101, 1), training_accuracy, label='Training Accuracy')\n",
        "plt.plot(range(1, 101, 1), validation_accuracy, label='Validation Accuracy')\n",
        "plt.xlabel('Training Data Size')\n",
        "plt.ylabel('Accuracy')\n",
        "plt.legend()\n",
        "plt.show()"
      ],
      "metadata": {
        "id": "IlE07R-x2Z74",
        "outputId": "d6e7d943-250e-4513-c3cf-58466afaa05c",
        "colab": {
          "base_uri": "https://localhost:8080/",
          "height": 449
        }
      },
      "execution_count": null,
      "outputs": [
        {
          "output_type": "display_data",
          "data": {
            "text/plain": [
              "<Figure size 640x480 with 1 Axes>"
            ],
            "image/png": "[encoded data removed]"
          },
          "metadata": {}
        }
      ]
    },
    {
      "cell_type": "code",
      "source": [
        "from sklearn.tree import DecisionTreeClassifier\n",
        "model_DTC1 = DecisionTreeClassifier(max_leaf_nodes=25, min_samples_split=4, random_state=42)\n",
        "model_DTC1.fit(X_train,y_train)\n",
        "y_pred = model_DTC1.predict(X_test)\n",
        "print(accuracy_score(y_pred,y_test))"
      ],
      "metadata": {
        "id": "TJpHh96M7eQR",
        "outputId": "43147120-ad29-4804-ecea-60ea17d5ba63",
        "colab": {
          "base_uri": "https://localhost:8080/"
        }
      },
      "execution_count": null,
      "outputs": [
        {
          "output_type": "stream",
          "name": "stdout",
          "text": [
            "0.9659090909090909\n"
          ]
        }
      ]
    },
    {
      "cell_type": "code",
      "source": [
        "from sklearn.tree import DecisionTreeClassifier\n",
        "import matplotlib.pyplot as plt\n",
        "\n",
        "model_DTC = DecisionTreeClassifier(max_leaf_nodes = 25, min_samples_split = 4, random_state = 42)\n",
        "history1 = model_DTC.fit(X_train, y_train)\n",
        "y_pred = model_DTC.predict(X_test)\n",
        "print(f'Accuracy for decision tree model is : {accuracy_score(y_pred, y_test)}')\n",
        "print(classification_report(y_pred,y_test))"
      ],
      "metadata": {
        "colab": {
          "base_uri": "https://localhost:8080/"
        },
        "id": "DFCMF72SRqkm",
        "outputId": "1041f225-eb17-4dc2-943c-810a7baed1b1"
      },
      "execution_count": null,
      "outputs": [
        {
          "output_type": "stream",
          "name": "stdout",
          "text": [
            "Accuracy for decision tree model is : 0.9659090909090909\n",
            "              precision    recall  f1-score   support\n",
            "\n",
            "       apple       1.00      1.00      1.00        23\n",
            "      banana       1.00      1.00      1.00        21\n",
            "   blackgram       0.90      1.00      0.95        18\n",
            "    chickpea       1.00      1.00      1.00        26\n",
            "     coconut       0.96      1.00      0.98        26\n",
            "      coffee       1.00      1.00      1.00        17\n",
            "      cotton       1.00      1.00      1.00        17\n",
            "      grapes       1.00      1.00      1.00        14\n",
            "        jute       0.96      0.85      0.90        26\n",
            " kidneybeans       1.00      1.00      1.00        20\n",
            "      lentil       1.00      0.73      0.85        15\n",
            "       maize       0.86      1.00      0.92        18\n",
            "       mango       1.00      1.00      1.00        19\n",
            "   mothbeans       0.83      0.91      0.87        22\n",
            "    mungbean       1.00      0.86      0.93        22\n",
            "   muskmelon       1.00      1.00      1.00        17\n",
            "      orange       1.00      0.93      0.97        15\n",
            "      papaya       1.00      1.00      1.00        23\n",
            "  pigeonpeas       1.00      1.00      1.00        23\n",
            " pomegranate       1.00      1.00      1.00        23\n",
            "        rice       0.79      0.94      0.86        16\n",
            "  watermelon       1.00      1.00      1.00        19\n",
            "\n",
            "    accuracy                           0.97       440\n",
            "   macro avg       0.97      0.96      0.96       440\n",
            "weighted avg       0.97      0.97      0.97       440\n",
            "\n"
          ]
        }
      ]
    },
    {
      "cell_type": "markdown",
      "source": [
        "# ADA BOOST MODEL"
      ],
      "metadata": {
        "id": "tn60NExoRqh5"
      }
    },
    {
      "cell_type": "code",
      "source": [
        "from sklearn.ensemble import AdaBoostClassifier\n",
        "from sklearn.model_selection import train_test_split\n",
        "from sklearn.metrics import accuracy_score\n",
        "import matplotlib.pyplot as plt\n",
        "import warnings\n",
        "from sklearn.exceptions import ConvergenceWarning  # Import ConvergenceWarning\n",
        "\n",
        "# Create a AdaBoost classifier\n",
        "model_ABC = AdaBoostClassifier()  # Increase max_iter to avoid ConvergenceWarning\n",
        "\n",
        "# Disable ConvergenceWarning\n",
        "warnings.filterwarnings(\"ignore\", category=ConvergenceWarning)\n",
        "\n",
        "training_accuracy = []\n",
        "validation_accuracy = []\n",
        "\n",
        "for step in range(1, 101, 1):\n",
        "    model_ABC.fit(X_train[:step+100], y_train[:step+100])\n",
        "\n",
        "    # Make predictions on the training set\n",
        "    train_predictions = model_ABC.predict(X_train)\n",
        "\n",
        "    # Make predictions on the validation set\n",
        "    val_predictions = model_ABC.predict(X_test)\n",
        "\n",
        "    # Calculate accuracy on training and validation sets\n",
        "    train_accuracy = accuracy_score(y_train, train_predictions)\n",
        "    val_accuracy = accuracy_score(y_test, val_predictions)\n",
        "\n",
        "    # Store accuracy scores\n",
        "    training_accuracy.append(train_accuracy)\n",
        "    validation_accuracy.append(val_accuracy)\n",
        "\n",
        "    if step%10 == 0:\n",
        "      print(f'Step {step}: Training Accuracy = {train_accuracy:.4f}, Validation Accuracy = {val_accuracy:.4f}')\n",
        "\n",
        "\n"
      ],
      "metadata": {
        "colab": {
          "base_uri": "https://localhost:8080/"
        },
        "id": "yfmp_qO1Rqeb",
        "outputId": "7bbdb28c-b521-4555-c157-d4132f32d2f8"
      },
      "execution_count": null,
      "outputs": [
        {
          "output_type": "stream",
          "name": "stdout",
          "text": [
            "Step 10: Training Accuracy = 0.3216, Validation Accuracy = 0.3227\n",
            "Step 20: Training Accuracy = 0.4114, Validation Accuracy = 0.4000\n",
            "Step 30: Training Accuracy = 0.2568, Validation Accuracy = 0.2523\n",
            "Step 40: Training Accuracy = 0.1926, Validation Accuracy = 0.1750\n",
            "Step 50: Training Accuracy = 0.2426, Validation Accuracy = 0.2477\n",
            "Step 60: Training Accuracy = 0.1568, Validation Accuracy = 0.1636\n",
            "Step 70: Training Accuracy = 0.2472, Validation Accuracy = 0.2432\n",
            "Step 80: Training Accuracy = 0.2460, Validation Accuracy = 0.2432\n",
            "Step 90: Training Accuracy = 0.1801, Validation Accuracy = 0.1886\n",
            "Step 100: Training Accuracy = 0.2659, Validation Accuracy = 0.3000\n"
          ]
        }
      ]
    },
    {
      "cell_type": "code",
      "source": [
        "# Plot the accuracy after every step\n",
        "plt.plot(range(1, 101, 1), training_accuracy, label='Training Accuracy')\n",
        "plt.plot(range(1, 101, 1), validation_accuracy, label='Validation Accuracy')\n",
        "plt.xlabel('Training Data Size')\n",
        "plt.ylabel('Accuracy')\n",
        "plt.legend()\n",
        "plt.show()"
      ],
      "metadata": {
        "id": "OQesIWOo2za5",
        "outputId": "cc2c65e2-3569-40cf-b6a5-73d4931c1ad7",
        "colab": {
          "base_uri": "https://localhost:8080/",
          "height": 449
        }
      },
      "execution_count": null,
      "outputs": [
        {
          "output_type": "display_data",
          "data": {
            "text/plain": [
              "<Figure size 640x480 with 1 Axes>"
            ],
            "image/png": "[encoded data removed]"
          },
          "metadata": {}
        }
      ]
    },
    {
      "cell_type": "code",
      "source": [
        "from sklearn.ensemble import AdaBoostClassifier\n",
        "model_ABC1 = AdaBoostClassifier()\n",
        "model_ABC1.fit(X_train,y_train)\n",
        "y_pred = model_ABC1.predict(X_test)\n",
        "print(accuracy_score(y_pred,y_test))"
      ],
      "metadata": {
        "id": "uonl_Z297nmw",
        "outputId": "3fede3b3-7063-4653-ea92-2b67f58c547b",
        "colab": {
          "base_uri": "https://localhost:8080/"
        }
      },
      "execution_count": null,
      "outputs": [
        {
          "output_type": "stream",
          "name": "stdout",
          "text": [
            "0.1409090909090909\n"
          ]
        }
      ]
    },
    {
      "cell_type": "code",
      "source": [
        "from sklearn.ensemble import AdaBoostClassifier\n",
        "import matplotlib.pyplot as plt\n",
        "\n",
        "model_ABC = AdaBoostClassifier()\n",
        "history1 = model_ABC.fit(X_train, y_train)\n",
        "y_pred = model_ABC.predict(X_test)\n",
        "print(f'Accuracy for ADA boost model is : {accuracy_score(y_pred, y_test)}')\n",
        "print(classification_report(y_pred,y_test))"
      ],
      "metadata": {
        "colab": {
          "base_uri": "https://localhost:8080/"
        },
        "id": "0sFNCXG9RqUK",
        "outputId": "41617804-2049-4911-bdd6-0ea12e6d923f"
      },
      "execution_count": null,
      "outputs": [
        {
          "output_type": "stream",
          "name": "stdout",
          "text": [
            "Accuracy for ADA boost model is : 0.1409090909090909\n",
            "              precision    recall  f1-score   support\n",
            "\n",
            "       apple       0.00      0.00      0.00         0\n",
            "      banana       0.00      0.00      0.00         0\n",
            "   blackgram       0.00      0.00      0.00         0\n",
            "    chickpea       0.00      0.00      0.00         0\n",
            "     coconut       0.00      0.00      0.00         0\n",
            "      coffee       0.00      0.00      0.00         0\n",
            "      cotton       0.00      0.00      0.00         0\n",
            "      grapes       1.00      0.38      0.55        37\n",
            "        jute       0.00      0.00      0.00         0\n",
            " kidneybeans       1.00      0.43      0.61        46\n",
            "      lentil       1.00      0.03      0.06       340\n",
            "       maize       0.00      0.00      0.00         0\n",
            "       mango       0.00      0.00      0.00         0\n",
            "   mothbeans       0.00      0.00      0.00         0\n",
            "    mungbean       0.00      0.00      0.00         0\n",
            "   muskmelon       1.00      1.00      1.00        17\n",
            "      orange       0.00      0.00      0.00         0\n",
            "      papaya       0.00      0.00      0.00         0\n",
            "  pigeonpeas       0.00      0.00      0.00         0\n",
            " pomegranate       0.00      0.00      0.00         0\n",
            "        rice       0.00      0.00      0.00         0\n",
            "  watermelon       0.00      0.00      0.00         0\n",
            "\n",
            "    accuracy                           0.14       440\n",
            "   macro avg       0.18      0.08      0.10       440\n",
            "weighted avg       1.00      0.14      0.20       440\n",
            "\n"
          ]
        },
        {
          "output_type": "stream",
          "name": "stderr",
          "text": [
            "/usr/local/lib/python3.10/dist-packages/sklearn/metrics/_classification.py:1344: UndefinedMetricWarning: Recall and F-score are ill-defined and being set to 0.0 in labels with no true samples. Use `zero_division` parameter to control this behavior.\n",
            "  _warn_prf(average, modifier, msg_start, len(result))\n",
            "/usr/local/lib/python3.10/dist-packages/sklearn/metrics/_classification.py:1344: UndefinedMetricWarning: Recall and F-score are ill-defined and being set to 0.0 in labels with no true samples. Use `zero_division` parameter to control this behavior.\n",
            "  _warn_prf(average, modifier, msg_start, len(result))\n",
            "/usr/local/lib/python3.10/dist-packages/sklearn/metrics/_classification.py:1344: UndefinedMetricWarning: Recall and F-score are ill-defined and being set to 0.0 in labels with no true samples. Use `zero_division` parameter to control this behavior.\n",
            "  _warn_prf(average, modifier, msg_start, len(result))\n"
          ]
        }
      ]
    },
    {
      "cell_type": "markdown",
      "source": [
        "# KNN MODEL"
      ],
      "metadata": {
        "id": "uviGVRodRqL-"
      }
    },
    {
      "cell_type": "code",
      "source": [
        "from sklearn.neighbors import KNeighborsClassifier\n",
        "from sklearn.model_selection import train_test_split\n",
        "from sklearn.metrics import accuracy_score\n",
        "import matplotlib.pyplot as plt\n",
        "import warnings\n",
        "from sklearn.exceptions import ConvergenceWarning  # Import ConvergenceWarning\n",
        "\n",
        "# Create a KNN model classifier\n",
        "model_KNN = KNeighborsClassifier(n_neighbors = 10)  # Increase max_iter to avoid ConvergenceWarning\n",
        "\n",
        "# Disable ConvergenceWarning\n",
        "warnings.filterwarnings(\"ignore\", category=ConvergenceWarning)\n",
        "\n",
        "# Lists to store accuracy scores\n",
        "training_accuracy = []\n",
        "validation_accuracy = []\n",
        "\n",
        "# Train the model incrementally and record accuracy after every step\n",
        "for step in range(1, 101, 1):\n",
        "    # Train the model with a subset of data\n",
        "    model_KNN.fit(X_train[:step+100], y_train[:step+100])\n",
        "\n",
        "    # Make predictions on the training set\n",
        "    train_predictions = model_KNN.predict(X_train)\n",
        "\n",
        "    # Make predictions on the validation set\n",
        "    val_predictions = model_KNN.predict(X_test)\n",
        "\n",
        "    # Calculate accuracy on training and validation sets\n",
        "    train_accuracy = accuracy_score(y_train, train_predictions)\n",
        "    val_accuracy = accuracy_score(y_test, val_predictions)\n",
        "\n",
        "    # Store accuracy scores\n",
        "    training_accuracy.append(train_accuracy)\n",
        "    validation_accuracy.append(val_accuracy)\n",
        "\n",
        "    if step%10==0:\n",
        "      print(f'Step {step}: Training Accuracy = {train_accuracy:.4f}, Validation Accuracy = {val_accuracy:.4f}')\n"
      ],
      "metadata": {
        "colab": {
          "base_uri": "https://localhost:8080/"
        },
        "id": "-f3PMUmnRp-y",
        "outputId": "0e99af7a-8fdc-4e48-e344-894745c9d833"
      },
      "execution_count": null,
      "outputs": [
        {
          "output_type": "stream",
          "name": "stdout",
          "text": [
            "Step 10: Training Accuracy = 0.6182, Validation Accuracy = 0.6023\n",
            "Step 20: Training Accuracy = 0.6449, Validation Accuracy = 0.6364\n",
            "Step 30: Training Accuracy = 0.6858, Validation Accuracy = 0.6727\n",
            "Step 40: Training Accuracy = 0.6892, Validation Accuracy = 0.6773\n",
            "Step 50: Training Accuracy = 0.7415, Validation Accuracy = 0.7091\n",
            "Step 60: Training Accuracy = 0.7824, Validation Accuracy = 0.7409\n",
            "Step 70: Training Accuracy = 0.7869, Validation Accuracy = 0.7500\n",
            "Step 80: Training Accuracy = 0.7960, Validation Accuracy = 0.7636\n",
            "Step 90: Training Accuracy = 0.8318, Validation Accuracy = 0.8182\n",
            "Step 100: Training Accuracy = 0.8580, Validation Accuracy = 0.8477\n"
          ]
        }
      ]
    },
    {
      "cell_type": "code",
      "source": [
        "plt.plot(range(1, 101, 1), training_accuracy, label='Training Accuracy')\n",
        "plt.plot(range(1, 101, 1), validation_accuracy, label='Validation Accuracy')\n",
        "plt.xlabel('Training Data Size')\n",
        "plt.ylabel('Accuracy')\n",
        "plt.legend()\n",
        "plt.show()"
      ],
      "metadata": {
        "id": "IUAeEcfM80AK",
        "outputId": "1f1a1e72-0747-4892-c589-f8fcd568f195",
        "colab": {
          "base_uri": "https://localhost:8080/",
          "height": 449
        }
      },
      "execution_count": null,
      "outputs": [
        {
          "output_type": "display_data",
          "data": {
            "text/plain": [
              "<Figure size 640x480 with 1 Axes>"
            ],
            "image/png": "[encoded data removed]"
          },
          "metadata": {}
        }
      ]
    },
    {
      "cell_type": "code",
      "source": [
        "from sklearn.neighbors import KNeighborsClassifier\n",
        "knnClassifier1 = KNeighborsClassifier(n_neighbors=10)\n",
        "knnClassifier1.fit(X_train,y_train)\n",
        "y_pred = knnClassifier1.predict(X_test)\n",
        "print(accuracy_score(y_pred,y_test))\n",
        "target_names = ['No' 'Yes']"
      ],
      "metadata": {
        "id": "95XTu-Ft9em2",
        "outputId": "2b09de62-c4c4-4272-ad9d-8e00f436fda5",
        "colab": {
          "base_uri": "https://localhost:8080/"
        }
      },
      "execution_count": null,
      "outputs": [
        {
          "output_type": "stream",
          "name": "stdout",
          "text": [
            "0.9590909090909091\n"
          ]
        }
      ]
    },
    {
      "cell_type": "code",
      "source": [
        "from sklearn.neighbors import KNeighborsClassifier\n",
        "import matplotlib.pyplot as plt\n",
        "\n",
        "model_KNN = KNeighborsClassifier(n_neighbors = 10)\n",
        "history1 = model_KNN.fit(X_train, y_train)\n",
        "y_pred = model_KNN.predict(X_test)\n",
        "print(f'Accuracy for ADA boost model is : {accuracy_score(y_pred, y_test)}')\n",
        "print(classification_report(y_pred,y_test))"
      ],
      "metadata": {
        "colab": {
          "base_uri": "https://localhost:8080/"
        },
        "id": "YL85pheYSNVb",
        "outputId": "8e9f24c8-166e-4577-f613-74b71231688d"
      },
      "execution_count": null,
      "outputs": [
        {
          "output_type": "stream",
          "name": "stdout",
          "text": [
            "Accuracy for ADA boost model is : 0.9590909090909091\n",
            "              precision    recall  f1-score   support\n",
            "\n",
            "       apple       1.00      1.00      1.00        23\n",
            "      banana       1.00      1.00      1.00        21\n",
            "   blackgram       1.00      0.91      0.95        22\n",
            "    chickpea       1.00      1.00      1.00        26\n",
            "     coconut       1.00      1.00      1.00        27\n",
            "      coffee       0.94      1.00      0.97        16\n",
            "      cotton       1.00      0.85      0.92        20\n",
            "      grapes       1.00      1.00      1.00        14\n",
            "        jute       1.00      0.72      0.84        32\n",
            " kidneybeans       1.00      0.95      0.98        21\n",
            "      lentil       1.00      0.79      0.88        14\n",
            "       maize       0.86      1.00      0.92        18\n",
            "       mango       1.00      1.00      1.00        19\n",
            "   mothbeans       0.88      1.00      0.93        21\n",
            "    mungbean       1.00      1.00      1.00        19\n",
            "   muskmelon       1.00      1.00      1.00        17\n",
            "      orange       1.00      1.00      1.00        14\n",
            "      papaya       0.91      1.00      0.95        21\n",
            "  pigeonpeas       0.87      1.00      0.93        20\n",
            " pomegranate       1.00      1.00      1.00        23\n",
            "        rice       0.68      1.00      0.81        13\n",
            "  watermelon       1.00      1.00      1.00        19\n",
            "\n",
            "    accuracy                           0.96       440\n",
            "   macro avg       0.96      0.96      0.96       440\n",
            "weighted avg       0.97      0.96      0.96       440\n",
            "\n"
          ]
        }
      ]
    },
    {
      "cell_type": "code",
      "source": [
        "N = 26\n",
        "P = 80\n",
        "k = 83\n",
        "temperature = 17.08499\n",
        "humidity = 16.14566\n",
        "ph = 7.5286\n",
        "rainfal = 71.31007\n",
        "\n",
        "\n",
        "predict_res = model_LRC.predict([[N,P,k,temperature,humidity,ph,rainfal]])\n",
        "class_probabilities = model_LRC.predict_proba([[N,P,k,temperature,humidity,ph,rainfal]])\n",
        "# print(class_probabilities)\n",
        "l1 = model_LRC.classes_\n",
        "# print(l1)\n",
        "d = {class_name: prob for class_name, prob in zip(l1, class_probabilities[0])}\n",
        "\n",
        "d = dict(sorted(d.items(), key=lambda item: item[1], reverse=True)) # Sorting the dictionary based on probability score\n",
        "# print(d)\n",
        "\n",
        "for i in d:\n",
        "  print(\"{} has the probability score of {}\".format(i, d[i]))\n",
        "print(\"\\n\\n\")\n",
        "print(\"Given parameters predicts the crop is : {}\".format(predict_res[0]))"
      ],
      "metadata": {
        "id": "YeLTraZyKJvj",
        "outputId": "932403a9-80e1-4525-8af6-dec9a25b84dd",
        "colab": {
          "base_uri": "https://localhost:8080/"
        }
      },
      "execution_count": null,
      "outputs": [
        {
          "output_type": "stream",
          "name": "stdout",
          "text": [
            "chickpea has the probability score of 0.9998735562632446\n",
            "apple has the probability score of 0.00012449854672840892\n",
            "kidneybeans has the probability score of 1.945035751291832e-06\n",
            "papaya has the probability score of 1.4861600609242653e-10\n",
            "banana has the probability score of 3.0563228266049526e-12\n",
            "grapes has the probability score of 2.60226146410371e-12\n",
            "mango has the probability score of 1.070450188988274e-15\n",
            "mothbeans has the probability score of 3.5116438077468074e-23\n",
            "pigeonpeas has the probability score of 7.491625150397265e-30\n",
            "blackgram has the probability score of 5.714191070740119e-30\n",
            "pomegranate has the probability score of 4.939679866475236e-31\n",
            "lentil has the probability score of 1.744543384959236e-31\n",
            "jute has the probability score of 7.683868070251034e-32\n",
            "maize has the probability score of 4.094607198946899e-38\n",
            "rice has the probability score of 1.3708643846506756e-39\n",
            "watermelon has the probability score of 7.41685255646533e-46\n",
            "coffee has the probability score of 8.982188815522644e-48\n",
            "mungbean has the probability score of 5.566587423322745e-52\n",
            "coconut has the probability score of 1.8259185411005148e-53\n",
            "cotton has the probability score of 5.949566480876664e-57\n",
            "muskmelon has the probability score of 8.55335668931652e-65\n",
            "orange has the probability score of 9.638268300558178e-69\n",
            "\n",
            "\n",
            "\n",
            "Given parameters predicts the crop is : chickpea\n"
          ]
        },
        {
          "output_type": "stream",
          "name": "stderr",
          "text": [
            "/usr/local/lib/python3.10/dist-packages/sklearn/base.py:439: UserWarning: X does not have valid feature names, but LogisticRegression was fitted with feature names\n",
            "  warnings.warn(\n",
            "/usr/local/lib/python3.10/dist-packages/sklearn/base.py:439: UserWarning: X does not have valid feature names, but LogisticRegression was fitted with feature names\n",
            "  warnings.warn(\n"
          ]
        }
      ]
    },
    {
      "cell_type": "markdown",
      "source": [
        "# OUR PROPOSED ARCHITECTURE"
      ],
      "metadata": {
        "id": "VWaZ9OgOSR5g"
      }
    },
    {
      "cell_type": "code",
      "source": [
        "import numpy as np\n",
        "import matplotlib.pyplot as plt\n",
        "from tensorflow.keras.models import Sequential\n",
        "from tensorflow.keras.layers import Dense\n",
        "from sklearn.model_selection import train_test_split\n",
        "from sklearn.preprocessing import LabelEncoder\n",
        "from tensorflow.keras.utils import to_categorical\n",
        "\n",
        "# Convert labels to integers using LabelEncoder\n",
        "label_encoder = LabelEncoder()\n",
        "y_train_encoded = label_encoder.fit_transform(y_train)\n",
        "y_test_encoded = label_encoder.transform(y_test)\n",
        "\n",
        "# Convert integers to one-hot encoded vectors\n",
        "num_classes = len(np.unique(y_train_encoded))\n",
        "y_train_onehot = to_categorical(y_train_encoded, num_classes=num_classes)\n",
        "y_test_onehot = to_categorical(y_test_encoded, num_classes=num_classes)\n",
        "\n",
        "model = Sequential()\n",
        "model.add(Dense(units=1024, input_dim=7, activation='softmax'))\n",
        "model.add(Dense(units=512, activation='softmax'))\n",
        "model.add(Dense(units=256, activation='softmax'))\n",
        "model.add(Dense(units=128, activation='softmax'))\n",
        "model.add(Dense(units=64, activation='softmax'))\n",
        "model.add(Dense(units=32, activation='softmax'))\n",
        "model.add(Dense(units=22, activation='softmax'))  # Assuming 22 classes\n",
        "model.compile(optimizer='adam', loss='sparse_categorical_crossentropy', metrics=['accuracy'])\n",
        "\n",
        "# Train the model and store the training history\n",
        "history = model.fit(X_train, y_train_encoded, epochs=500, validation_data=(X_test, y_test_encoded), verbose=0)\n",
        "\n",
        "print(history)\n",
        "\n",
        "# Access training history\n",
        "training_accuracy = history.history['accuracy']\n",
        "validation_accuracy = history.history['val_accuracy']\n",
        "\n",
        "# Plot the training accuracy and validation accuracy over epochs\n",
        "plt.plot(training_accuracy, label='Training Accuracy')\n",
        "plt.plot(validation_accuracy, label='Validation Accuracy')\n",
        "plt.xlabel('Epoch')\n",
        "plt.ylabel('Accuracy')\n",
        "plt.legend()\n",
        "plt.show()\n"
      ],
      "metadata": {
        "id": "EfY_LQXBRiRy"
      },
      "execution_count": null,
      "outputs": []
    },
    {
      "cell_type": "markdown",
      "source": [
        "# SUMMARY"
      ],
      "metadata": {
        "id": "u2P9GVbjROgu"
      }
    },
    {
      "cell_type": "code",
      "execution_count": null,
      "metadata": {
        "id": "FDnQvqFob4-j",
        "colab": {
          "base_uri": "https://localhost:8080/"
        },
        "outputId": "20ee0204-c7a7-4ef1-a460-cc8f936dfc77"
      },
      "outputs": [
        {
          "output_type": "stream",
          "name": "stderr",
          "text": [
            "/usr/local/lib/python3.10/dist-packages/sklearn/linear_model/_logistic.py:458: ConvergenceWarning: lbfgs failed to converge (status=1):\n",
            "STOP: TOTAL NO. of ITERATIONS REACHED LIMIT.\n",
            "\n",
            "Increase the number of iterations (max_iter) or scale the data as shown in:\n",
            "    https://scikit-learn.org/stable/modules/preprocessing.html\n",
            "Please also refer to the documentation for alternative solver options:\n",
            "    https://scikit-learn.org/stable/modules/linear_model.html#logistic-regression\n",
            "  n_iter_i = _check_optimize_result(\n"
          ]
        },
        {
          "output_type": "stream",
          "name": "stdout",
          "text": [
            "Logistic Regression with accuracy : 0.9454545454545454\n",
            "Naive Bayes with accuracy : 0.9954545454545455\n",
            "Support Vector Machine with accuracy : 0.9613636363636363\n",
            "K-Nearest neighbours with accuracy : 0.9704545454545455\n",
            "Decision Tree with accuracy : 0.9818181818181818\n",
            "Random Forest with accuracy : 0.9931818181818182\n",
            "Bagging with accuracy : 0.9931818181818182\n",
            "AdaBoost with accuracy : 0.9818181818181818\n",
            "Extra Trees with accuracy : 0.9159090909090909\n"
          ]
        }
      ],
      "source": [
        "from sklearn.linear_model import LogisticRegression\n",
        "from sklearn.naive_bayes import GaussianNB\n",
        "from sklearn.svm import SVC\n",
        "from sklearn.neighbors import KNeighborsClassifier\n",
        "from sklearn.tree import DecisionTreeClassifier\n",
        "from sklearn.tree import ExtraTreeClassifier\n",
        "from sklearn.ensemble import RandomForestClassifier\n",
        "from sklearn.ensemble import BaggingClassifier\n",
        "from sklearn.ensemble import GradientBoostingClassifier\n",
        "from sklearn.ensemble import AdaBoostClassifier\n",
        "from sklearn.metrics import accuracy_score\n",
        "import numpy as np\n",
        "from sklearn.preprocessing import StandardScaler, MinMaxScaler\n",
        "\n",
        "models = {\n",
        "    'Logistic Regression': LogisticRegression(),\n",
        "    'Naive Bayes': GaussianNB(),\n",
        "    'Support Vector Machine': SVC(),\n",
        "    'K-Nearest neighbours': KNeighborsClassifier(),\n",
        "    'Decision Tree': DecisionTreeClassifier(),\n",
        "    'Random Forest': RandomForestClassifier(),\n",
        "    'Bagging': BaggingClassifier(),\n",
        "    'AdaBoost': GradientBoostingClassifier(),\n",
        "    'Extra Trees': ExtraTreeClassifier()\n",
        "}\n",
        "\n",
        "for name, md in models.items():\n",
        "    md.fit(x_train,y_train)\n",
        "    ypred = md.predict(x_test)\n",
        "\n",
        "    print(f\"{name} with accuracy : {accuracy_score(y_test,ypred)}\")\n",
        "\n",
        "# Here from the output obtained Naive Bayes is giving us the max accuracy of around 99.5 percent"
      ]
    },
    {
      "cell_type": "code",
      "source": [
        "import matplotlib.pyplot as plt\n",
        "\n",
        "algorithms = ['Logistic Regression',\n",
        "    'Naive Bayes',\n",
        "    'Support Vector Machine',\n",
        "    'K-Nearest neighbours',\n",
        "    'Decision Tree',\n",
        "    'Random Forest',\n",
        "    'Bagging',\n",
        "    'AdaBoost',\n",
        "    'Extra Trees']\n",
        "accuracy_scores = [0.94, 0.99, 0.96, 0.97, 0.98, 0.99, 0.99, 0.98, 0.92]\n",
        "\n",
        "colors = ['b', 'g', 'r', 'c', 'm', 'y', 'k', 'purple', 'orange']\n",
        "\n",
        "# Create the bar chart\n",
        "plt.bar(algorithms, accuracy_scores, color=colors)\n",
        "plt.xticks(rotation = 90)\n",
        "plt.xlabel('Machine Learning Algorithms')\n",
        "plt.ylabel('Accuracy')\n",
        "plt.title('Accuracy of Different ML Algorithms')\n",
        "plt.ylim(0, 1)  # Set the y-axis range (0 to 1 for accuracy)\n",
        "\n",
        "plt.show()"
      ],
      "metadata": {
        "colab": {
          "base_uri": "https://localhost:8080/",
          "height": 624
        },
        "id": "gv6RGTdY7_e5",
        "outputId": "6d9fcbc2-1a46-4146-8c83-a0843419815a"
      },
      "execution_count": null,
      "outputs": [
        {
          "output_type": "display_data",
          "data": {
            "text/plain": [
              "<Figure size 640x480 with 1 Axes>"
            ],
            "image/png": "[encoded data removed]"
          },
          "metadata": {}
        }
      ]
    }
  ],
  "metadata": {
    "colab": {
      "provenance": [],
      "gpuType": "T4",
      "toc_visible": true,
      "include_colab_link": true
    },
    "kernelspec": {
      "display_name": "Python 3",
      "name": "python3"
    },
    "language_info": {
      "name": "python"
    },
    "accelerator": "GPU"
  },
  "nbformat": 4,
  "nbformat_minor": 0
}